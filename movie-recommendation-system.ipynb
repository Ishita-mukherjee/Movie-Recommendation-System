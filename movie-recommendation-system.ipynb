{
 "cells": [
  {
   "cell_type": "markdown",
   "metadata": {
    "papermill": {
     "duration": 0.060545,
     "end_time": "2021-06-22T09:26:57.939385",
     "exception": false,
     "start_time": "2021-06-22T09:26:57.878840",
     "status": "completed"
    },
    "tags": []
   },
   "source": [
    "#  Movie Recommendation System"
   ]
  },
  {
   "cell_type": "markdown",
   "metadata": {
    "papermill": {
     "duration": 0.040062,
     "end_time": "2021-06-22T09:26:58.196460",
     "exception": false,
     "start_time": "2021-06-22T09:26:58.156398",
     "status": "completed"
    },
    "tags": []
   },
   "source": [
    "## 1. Importing libraries"
   ]
  },
  {
   "cell_type": "code",
   "execution_count": 1,
   "metadata": {
    "execution": {
     "iopub.execute_input": "2021-07-12T18:55:49.022244Z",
     "iopub.status.busy": "2021-07-12T18:55:49.021835Z",
     "iopub.status.idle": "2021-07-12T18:55:50.134570Z",
     "shell.execute_reply": "2021-07-12T18:55:50.133465Z",
     "shell.execute_reply.started": "2021-07-12T18:55:49.022160Z"
    },
    "papermill": {
     "duration": 2.300829,
     "end_time": "2021-06-22T09:27:00.539021",
     "exception": false,
     "start_time": "2021-06-22T09:26:58.238192",
     "status": "completed"
    },
    "tags": []
   },
   "outputs": [],
   "source": [
    "import numpy as np\n",
    "import pandas as pd\n",
    "import seaborn as sb\n",
    "import matplotlib.pyplot as plt\n",
    "%matplotlib inline\n",
    "\n",
    "import warnings\n",
    "warnings.filterwarnings(\"ignore\")\n"
   ]
  },
  {
   "cell_type": "markdown",
   "metadata": {
    "papermill": {
     "duration": 0.039341,
     "end_time": "2021-06-22T09:27:00.618513",
     "exception": false,
     "start_time": "2021-06-22T09:27:00.579172",
     "status": "completed"
    },
    "tags": []
   },
   "source": [
    "### Reading Data"
   ]
  },
  {
   "cell_type": "code",
   "execution_count": 2,
   "metadata": {
    "execution": {
     "iopub.execute_input": "2021-07-12T18:55:50.136379Z",
     "iopub.status.busy": "2021-07-12T18:55:50.136077Z",
     "iopub.status.idle": "2021-07-12T18:55:50.297542Z",
     "shell.execute_reply": "2021-07-12T18:55:50.296406Z",
     "shell.execute_reply.started": "2021-07-12T18:55:50.136351Z"
    },
    "papermill": {
     "duration": 0.191971,
     "end_time": "2021-06-22T09:27:00.850393",
     "exception": false,
     "start_time": "2021-06-22T09:27:00.658422",
     "status": "completed"
    },
    "tags": []
   },
   "outputs": [
    {
     "data": {
      "text/html": [
       "<div>\n",
       "<style scoped>\n",
       "    .dataframe tbody tr th:only-of-type {\n",
       "        vertical-align: middle;\n",
       "    }\n",
       "\n",
       "    .dataframe tbody tr th {\n",
       "        vertical-align: top;\n",
       "    }\n",
       "\n",
       "    .dataframe thead th {\n",
       "        text-align: right;\n",
       "    }\n",
       "</style>\n",
       "<table border=\"1\" class=\"dataframe\">\n",
       "  <thead>\n",
       "    <tr style=\"text-align: right;\">\n",
       "      <th></th>\n",
       "      <th>show_id</th>\n",
       "      <th>type</th>\n",
       "      <th>title</th>\n",
       "      <th>director</th>\n",
       "      <th>cast</th>\n",
       "      <th>country</th>\n",
       "      <th>date_added</th>\n",
       "      <th>release_year</th>\n",
       "      <th>rating</th>\n",
       "      <th>duration</th>\n",
       "      <th>listed_in</th>\n",
       "      <th>description</th>\n",
       "    </tr>\n",
       "  </thead>\n",
       "  <tbody>\n",
       "    <tr>\n",
       "      <th>0</th>\n",
       "      <td>s1</td>\n",
       "      <td>TV Show</td>\n",
       "      <td>3%</td>\n",
       "      <td>NaN</td>\n",
       "      <td>João Miguel, Bianca Comparato, Michel Gomes, R...</td>\n",
       "      <td>Brazil</td>\n",
       "      <td>August 14, 2020</td>\n",
       "      <td>2020</td>\n",
       "      <td>TV-MA</td>\n",
       "      <td>4 Seasons</td>\n",
       "      <td>International TV Shows, TV Dramas, TV Sci-Fi &amp;...</td>\n",
       "      <td>In a future where the elite inhabit an island ...</td>\n",
       "    </tr>\n",
       "    <tr>\n",
       "      <th>1</th>\n",
       "      <td>s2</td>\n",
       "      <td>Movie</td>\n",
       "      <td>7:19</td>\n",
       "      <td>Jorge Michel Grau</td>\n",
       "      <td>Demián Bichir, Héctor Bonilla, Oscar Serrano, ...</td>\n",
       "      <td>Mexico</td>\n",
       "      <td>December 23, 2016</td>\n",
       "      <td>2016</td>\n",
       "      <td>TV-MA</td>\n",
       "      <td>93 min</td>\n",
       "      <td>Dramas, International Movies</td>\n",
       "      <td>After a devastating earthquake hits Mexico Cit...</td>\n",
       "    </tr>\n",
       "    <tr>\n",
       "      <th>2</th>\n",
       "      <td>s3</td>\n",
       "      <td>Movie</td>\n",
       "      <td>23:59</td>\n",
       "      <td>Gilbert Chan</td>\n",
       "      <td>Tedd Chan, Stella Chung, Henley Hii, Lawrence ...</td>\n",
       "      <td>Singapore</td>\n",
       "      <td>December 20, 2018</td>\n",
       "      <td>2011</td>\n",
       "      <td>R</td>\n",
       "      <td>78 min</td>\n",
       "      <td>Horror Movies, International Movies</td>\n",
       "      <td>When an army recruit is found dead, his fellow...</td>\n",
       "    </tr>\n",
       "    <tr>\n",
       "      <th>3</th>\n",
       "      <td>s4</td>\n",
       "      <td>Movie</td>\n",
       "      <td>9</td>\n",
       "      <td>Shane Acker</td>\n",
       "      <td>Elijah Wood, John C. Reilly, Jennifer Connelly...</td>\n",
       "      <td>United States</td>\n",
       "      <td>November 16, 2017</td>\n",
       "      <td>2009</td>\n",
       "      <td>PG-13</td>\n",
       "      <td>80 min</td>\n",
       "      <td>Action &amp; Adventure, Independent Movies, Sci-Fi...</td>\n",
       "      <td>In a postapocalyptic world, rag-doll robots hi...</td>\n",
       "    </tr>\n",
       "    <tr>\n",
       "      <th>4</th>\n",
       "      <td>s5</td>\n",
       "      <td>Movie</td>\n",
       "      <td>21</td>\n",
       "      <td>Robert Luketic</td>\n",
       "      <td>Jim Sturgess, Kevin Spacey, Kate Bosworth, Aar...</td>\n",
       "      <td>United States</td>\n",
       "      <td>January 1, 2020</td>\n",
       "      <td>2008</td>\n",
       "      <td>PG-13</td>\n",
       "      <td>123 min</td>\n",
       "      <td>Dramas</td>\n",
       "      <td>A brilliant group of students become card-coun...</td>\n",
       "    </tr>\n",
       "  </tbody>\n",
       "</table>\n",
       "</div>"
      ],
      "text/plain": [
       "  show_id     type  title           director  \\\n",
       "0      s1  TV Show     3%                NaN   \n",
       "1      s2    Movie   7:19  Jorge Michel Grau   \n",
       "2      s3    Movie  23:59       Gilbert Chan   \n",
       "3      s4    Movie      9        Shane Acker   \n",
       "4      s5    Movie     21     Robert Luketic   \n",
       "\n",
       "                                                cast        country  \\\n",
       "0  João Miguel, Bianca Comparato, Michel Gomes, R...         Brazil   \n",
       "1  Demián Bichir, Héctor Bonilla, Oscar Serrano, ...         Mexico   \n",
       "2  Tedd Chan, Stella Chung, Henley Hii, Lawrence ...      Singapore   \n",
       "3  Elijah Wood, John C. Reilly, Jennifer Connelly...  United States   \n",
       "4  Jim Sturgess, Kevin Spacey, Kate Bosworth, Aar...  United States   \n",
       "\n",
       "          date_added  release_year rating   duration  \\\n",
       "0    August 14, 2020          2020  TV-MA  4 Seasons   \n",
       "1  December 23, 2016          2016  TV-MA     93 min   \n",
       "2  December 20, 2018          2011      R     78 min   \n",
       "3  November 16, 2017          2009  PG-13     80 min   \n",
       "4    January 1, 2020          2008  PG-13    123 min   \n",
       "\n",
       "                                           listed_in  \\\n",
       "0  International TV Shows, TV Dramas, TV Sci-Fi &...   \n",
       "1                       Dramas, International Movies   \n",
       "2                Horror Movies, International Movies   \n",
       "3  Action & Adventure, Independent Movies, Sci-Fi...   \n",
       "4                                             Dramas   \n",
       "\n",
       "                                         description  \n",
       "0  In a future where the elite inhabit an island ...  \n",
       "1  After a devastating earthquake hits Mexico Cit...  \n",
       "2  When an army recruit is found dead, his fellow...  \n",
       "3  In a postapocalyptic world, rag-doll robots hi...  \n",
       "4  A brilliant group of students become card-coun...  "
      ]
     },
     "execution_count": 2,
     "metadata": {},
     "output_type": "execute_result"
    }
   ],
   "source": [
    "df = pd.read_csv(\"netflix_titles.csv\")\n",
    "df.head()"
   ]
  },
  {
   "cell_type": "code",
   "execution_count": 3,
   "metadata": {},
   "outputs": [
    {
     "data": {
      "text/plain": [
       "(7787, 12)"
      ]
     },
     "execution_count": 3,
     "metadata": {},
     "output_type": "execute_result"
    }
   ],
   "source": [
    "df.shape"
   ]
  },
  {
   "cell_type": "markdown",
   "metadata": {
    "papermill": {
     "duration": 0.042072,
     "end_time": "2021-06-22T09:27:01.015894",
     "exception": false,
     "start_time": "2021-06-22T09:27:00.973822",
     "status": "completed"
    },
    "tags": []
   },
   "source": [
    "## 2. Data Exploration"
   ]
  },
  {
   "cell_type": "code",
   "execution_count": 3,
   "metadata": {
    "execution": {
     "iopub.execute_input": "2021-07-12T18:55:50.299532Z",
     "iopub.status.busy": "2021-07-12T18:55:50.299248Z",
     "iopub.status.idle": "2021-07-12T18:55:50.329772Z",
     "shell.execute_reply": "2021-07-12T18:55:50.329007Z",
     "shell.execute_reply.started": "2021-07-12T18:55:50.299505Z"
    },
    "papermill": {
     "duration": 0.072825,
     "end_time": "2021-06-22T09:27:01.129465",
     "exception": false,
     "start_time": "2021-06-22T09:27:01.056640",
     "status": "completed"
    },
    "tags": []
   },
   "outputs": [
    {
     "name": "stdout",
     "output_type": "stream",
     "text": [
      "<class 'pandas.core.frame.DataFrame'>\n",
      "RangeIndex: 7787 entries, 0 to 7786\n",
      "Data columns (total 12 columns):\n",
      "show_id         7787 non-null object\n",
      "type            7787 non-null object\n",
      "title           7787 non-null object\n",
      "director        5398 non-null object\n",
      "cast            7069 non-null object\n",
      "country         7280 non-null object\n",
      "date_added      7777 non-null object\n",
      "release_year    7787 non-null int64\n",
      "rating          7780 non-null object\n",
      "duration        7787 non-null object\n",
      "listed_in       7787 non-null object\n",
      "description     7787 non-null object\n",
      "dtypes: int64(1), object(11)\n",
      "memory usage: 730.1+ KB\n"
     ]
    }
   ],
   "source": [
    "df.info()"
   ]
  },
  {
   "cell_type": "markdown",
   "metadata": {},
   "source": [
    "### --> Checking for missing values"
   ]
  },
  {
   "cell_type": "code",
   "execution_count": 4,
   "metadata": {
    "execution": {
     "iopub.execute_input": "2021-07-12T18:55:50.331585Z",
     "iopub.status.busy": "2021-07-12T18:55:50.331161Z",
     "iopub.status.idle": "2021-07-12T18:55:50.347992Z",
     "shell.execute_reply": "2021-07-12T18:55:50.347066Z",
     "shell.execute_reply.started": "2021-07-12T18:55:50.331550Z"
    },
    "papermill": {
     "duration": 0.061133,
     "end_time": "2021-06-22T09:27:01.233324",
     "exception": false,
     "start_time": "2021-06-22T09:27:01.172191",
     "status": "completed"
    },
    "tags": []
   },
   "outputs": [
    {
     "data": {
      "text/plain": [
       "show_id            0\n",
       "type               0\n",
       "title              0\n",
       "director        2389\n",
       "cast             718\n",
       "country          507\n",
       "date_added        10\n",
       "release_year       0\n",
       "rating             7\n",
       "duration           0\n",
       "listed_in          0\n",
       "description        0\n",
       "dtype: int64"
      ]
     },
     "execution_count": 4,
     "metadata": {},
     "output_type": "execute_result"
    }
   ],
   "source": [
    "df.isna().sum()"
   ]
  },
  {
   "cell_type": "code",
   "execution_count": 5,
   "metadata": {
    "execution": {
     "iopub.execute_input": "2021-07-12T18:55:50.349742Z",
     "iopub.status.busy": "2021-07-12T18:55:50.349250Z",
     "iopub.status.idle": "2021-07-12T18:55:51.357119Z",
     "shell.execute_reply": "2021-07-12T18:55:51.355951Z",
     "shell.execute_reply.started": "2021-07-12T18:55:50.349707Z"
    },
    "papermill": {
     "duration": 0.796506,
     "end_time": "2021-06-22T09:27:02.071474",
     "exception": false,
     "start_time": "2021-06-22T09:27:01.274968",
     "status": "completed"
    },
    "tags": []
   },
   "outputs": [
    {
     "data": {
      "text/plain": [
       "Text(0.5, 1.0, 'COLUMN WISE MISSING VALUES')"
      ]
     },
     "execution_count": 5,
     "metadata": {},
     "output_type": "execute_result"
    },
    {
     "data": {
      "image/png": "[encoded data removed]",
      "text/plain": [
       "<Figure size 720x360 with 3 Axes>"
      ]
     },
     "metadata": {
      "needs_background": "light"
     },
     "output_type": "display_data"
    }
   ],
   "source": [
    "# Plot missing values in columns\n",
    "import missingno #Python library for the exploratory visualization of missing data #install using !pip install missingno\n",
    "color= ['dimgrey','dimgrey','dimgrey','darkblue','blue','blue','lightblue','dimgrey','dimgrey','dimgrey','dimgrey','dimgrey']\n",
    "missingno.bar(df,fontsize=10,color=color,figsize=(10,5))\n",
    "plt.title('COLUMN WISE MISSING VALUES',fontsize=20)"
   ]
  },
  {
   "cell_type": "markdown",
   "metadata": {
    "papermill": {
     "duration": 0.044277,
     "end_time": "2021-06-22T09:27:02.160159",
     "exception": false,
     "start_time": "2021-06-22T09:27:02.115882",
     "status": "completed"
    },
    "tags": []
   },
   "source": [
    "- There are missing values in column director,cast,country and date_added.\n",
    "- We can't randomly fill the missing values in columns of director and cast, so we can drop them.\n",
    "- For minimal number of missing values in country and date_added,rating, we can fill them using mode(most common value) and mean."
   ]
  },
  {
   "cell_type": "markdown",
   "metadata": {
    "papermill": {
     "duration": 0.043067,
     "end_time": "2021-06-22T09:27:02.247084",
     "exception": false,
     "start_time": "2021-06-22T09:27:02.204017",
     "status": "completed"
    },
    "tags": []
   },
   "source": [
    "### --> Handling missing values"
   ]
  },
  {
   "cell_type": "code",
   "execution_count": 6,
   "metadata": {
    "execution": {
     "iopub.execute_input": "2021-07-12T18:55:51.359211Z",
     "iopub.status.busy": "2021-07-12T18:55:51.358778Z",
     "iopub.status.idle": "2021-07-12T18:55:51.377915Z",
     "shell.execute_reply": "2021-07-12T18:55:51.376532Z",
     "shell.execute_reply.started": "2021-07-12T18:55:51.359165Z"
    },
    "papermill": {
     "duration": 0.061036,
     "end_time": "2021-06-22T09:27:02.351588",
     "exception": false,
     "start_time": "2021-06-22T09:27:02.290552",
     "status": "completed"
    },
    "tags": []
   },
   "outputs": [],
   "source": [
    "df['country'] = df['country'].fillna(df['country'].mode()[0])\n",
    "df['date_added'] = df['date_added'].fillna(df['date_added'].mode()[0])\n",
    "df['rating'] = df['rating'].fillna(df['country'].mode()[0])"
   ]
  },
  {
   "cell_type": "code",
   "execution_count": 7,
   "metadata": {
    "execution": {
     "iopub.execute_input": "2021-07-12T18:55:51.380417Z",
     "iopub.status.busy": "2021-07-12T18:55:51.379708Z",
     "iopub.status.idle": "2021-07-12T18:55:51.392533Z",
     "shell.execute_reply": "2021-07-12T18:55:51.391527Z",
     "shell.execute_reply.started": "2021-07-12T18:55:51.380368Z"
    },
    "papermill": {
     "duration": 0.053361,
     "end_time": "2021-06-22T09:27:02.448081",
     "exception": false,
     "start_time": "2021-06-22T09:27:02.394720",
     "status": "completed"
    },
    "tags": []
   },
   "outputs": [],
   "source": [
    "df = df.dropna( how='any',subset=['cast', 'director'])"
   ]
  },
  {
   "cell_type": "code",
   "execution_count": 8,
   "metadata": {
    "execution": {
     "iopub.execute_input": "2021-07-12T18:55:51.394729Z",
     "iopub.status.busy": "2021-07-12T18:55:51.394043Z",
     "iopub.status.idle": "2021-07-12T18:55:51.417519Z",
     "shell.execute_reply": "2021-07-12T18:55:51.416338Z",
     "shell.execute_reply.started": "2021-07-12T18:55:51.394680Z"
    },
    "papermill": {
     "duration": 0.060312,
     "end_time": "2021-06-22T09:27:02.551437",
     "exception": false,
     "start_time": "2021-06-22T09:27:02.491125",
     "status": "completed"
    },
    "tags": []
   },
   "outputs": [
    {
     "data": {
      "text/plain": [
       "show_id         0\n",
       "type            0\n",
       "title           0\n",
       "director        0\n",
       "cast            0\n",
       "country         0\n",
       "date_added      0\n",
       "release_year    0\n",
       "rating          0\n",
       "duration        0\n",
       "listed_in       0\n",
       "description     0\n",
       "dtype: int64"
      ]
     },
     "execution_count": 8,
     "metadata": {},
     "output_type": "execute_result"
    }
   ],
   "source": [
    "df.isna().sum()"
   ]
  },
  {
   "cell_type": "markdown",
   "metadata": {
    "papermill": {
     "duration": 0.042777,
     "end_time": "2021-06-22T09:27:02.637413",
     "exception": false,
     "start_time": "2021-06-22T09:27:02.594636",
     "status": "completed"
    },
    "tags": []
   },
   "source": [
    "- All the missing values in the dataset have either been removed or filled. There are no missing values left."
   ]
  },
  {
   "cell_type": "code",
   "execution_count": 9,
   "metadata": {
    "execution": {
     "iopub.execute_input": "2021-07-12T18:55:51.421883Z",
     "iopub.status.busy": "2021-07-12T18:55:51.421514Z",
     "iopub.status.idle": "2021-07-12T18:55:51.445878Z",
     "shell.execute_reply": "2021-07-12T18:55:51.444762Z",
     "shell.execute_reply.started": "2021-07-12T18:55:51.421834Z"
    },
    "papermill": {
     "duration": 0.070949,
     "end_time": "2021-06-22T09:27:02.751676",
     "exception": false,
     "start_time": "2021-06-22T09:27:02.680727",
     "status": "completed"
    },
    "tags": []
   },
   "outputs": [
    {
     "data": {
      "text/plain": [
       "0"
      ]
     },
     "execution_count": 9,
     "metadata": {},
     "output_type": "execute_result"
    }
   ],
   "source": [
    "df.duplicated().sum()"
   ]
  },
  {
   "cell_type": "markdown",
   "metadata": {
    "papermill": {
     "duration": 0.04378,
     "end_time": "2021-06-22T09:27:02.838957",
     "exception": false,
     "start_time": "2021-06-22T09:27:02.795177",
     "status": "completed"
    },
    "tags": []
   },
   "source": [
    "- dataset has 0 duplicated values."
   ]
  },
  {
   "cell_type": "markdown",
   "metadata": {
    "papermill": {
     "duration": 0.043294,
     "end_time": "2021-06-22T09:27:02.925967",
     "exception": false,
     "start_time": "2021-06-22T09:27:02.882673",
     "status": "completed"
    },
    "tags": []
   },
   "source": [
    "### --> Cleaning the data"
   ]
  },
  {
   "cell_type": "markdown",
   "metadata": {
    "papermill": {
     "duration": 0.046031,
     "end_time": "2021-06-22T09:27:03.015898",
     "exception": false,
     "start_time": "2021-06-22T09:27:02.969867",
     "status": "completed"
    },
    "tags": []
   },
   "source": [
    "Adding some new columns:\n",
    "- listed_in - Genre\n",
    "* Year Added - year_add\n",
    "* Month Added - month_add\n",
    "* Princial Country - country_main "
   ]
  },
  {
   "cell_type": "code",
   "execution_count": 10,
   "metadata": {
    "execution": {
     "iopub.execute_input": "2021-07-12T18:55:51.448427Z",
     "iopub.status.busy": "2021-07-12T18:55:51.448074Z",
     "iopub.status.idle": "2021-07-12T18:55:51.462170Z",
     "shell.execute_reply": "2021-07-12T18:55:51.461403Z",
     "shell.execute_reply.started": "2021-07-12T18:55:51.448397Z"
    }
   },
   "outputs": [
    {
     "data": {
      "text/plain": [
       "1                    Dramas\n",
       "2             Horror Movies\n",
       "3        Action & Adventure\n",
       "4                    Dramas\n",
       "5    International TV Shows\n",
       "Name: Genre, dtype: object"
      ]
     },
     "execution_count": 10,
     "metadata": {},
     "output_type": "execute_result"
    }
   ],
   "source": [
    "#Rename the 'listed_in' column as 'Genre' for easy understanding\n",
    "df = df.rename(columns={\"listed_in\":\"Genre\"})\n",
    "df['Genre'] = df['Genre'].apply(lambda x: x.split(\",\")[0])\n",
    "df['Genre'].head()"
   ]
  },
  {
   "cell_type": "code",
   "execution_count": 11,
   "metadata": {
    "execution": {
     "iopub.execute_input": "2021-07-12T18:55:51.463650Z",
     "iopub.status.busy": "2021-07-12T18:55:51.463252Z",
     "iopub.status.idle": "2021-07-12T18:55:51.482476Z",
     "shell.execute_reply": "2021-07-12T18:55:51.481324Z",
     "shell.execute_reply.started": "2021-07-12T18:55:51.463621Z"
    },
    "papermill": {
     "duration": 0.060955,
     "end_time": "2021-06-22T09:27:03.120568",
     "exception": false,
     "start_time": "2021-06-22T09:27:03.059613",
     "status": "completed"
    },
    "tags": []
   },
   "outputs": [
    {
     "data": {
      "text/plain": [
       "1    2016\n",
       "2    2018\n",
       "3    2017\n",
       "4    2020\n",
       "5    2017\n",
       "Name: year_add, dtype: object"
      ]
     },
     "execution_count": 11,
     "metadata": {},
     "output_type": "execute_result"
    }
   ],
   "source": [
    "df['year_add'] = df['date_added'].apply(lambda x: x.split(\" \")[-1])\n",
    "df['year_add'].head()"
   ]
  },
  {
   "cell_type": "code",
   "execution_count": 12,
   "metadata": {
    "execution": {
     "iopub.execute_input": "2021-07-12T18:55:51.484117Z",
     "iopub.status.busy": "2021-07-12T18:55:51.483762Z",
     "iopub.status.idle": "2021-07-12T18:55:51.504501Z",
     "shell.execute_reply": "2021-07-12T18:55:51.503659Z",
     "shell.execute_reply.started": "2021-07-12T18:55:51.484084Z"
    },
    "papermill": {
     "duration": 0.060476,
     "end_time": "2021-06-22T09:27:03.225275",
     "exception": false,
     "start_time": "2021-06-22T09:27:03.164799",
     "status": "completed"
    },
    "tags": []
   },
   "outputs": [
    {
     "data": {
      "text/plain": [
       "1    December\n",
       "2    December\n",
       "3    November\n",
       "4     January\n",
       "5        July\n",
       "Name: month_add, dtype: object"
      ]
     },
     "execution_count": 12,
     "metadata": {},
     "output_type": "execute_result"
    }
   ],
   "source": [
    "df['month_add'] = df['date_added'].apply(lambda x: x.split(\" \")[0])\n",
    "df['month_add'].head()"
   ]
  },
  {
   "cell_type": "code",
   "execution_count": 13,
   "metadata": {
    "execution": {
     "iopub.execute_input": "2021-07-12T18:55:51.505957Z",
     "iopub.status.busy": "2021-07-12T18:55:51.505533Z",
     "iopub.status.idle": "2021-07-12T18:55:51.524557Z",
     "shell.execute_reply": "2021-07-12T18:55:51.523585Z",
     "shell.execute_reply.started": "2021-07-12T18:55:51.505923Z"
    },
    "papermill": {
     "duration": 0.061707,
     "end_time": "2021-06-22T09:27:03.437589",
     "exception": false,
     "start_time": "2021-06-22T09:27:03.375882",
     "status": "completed"
    },
    "tags": []
   },
   "outputs": [
    {
     "data": {
      "text/plain": [
       "1           Mexico\n",
       "2        Singapore\n",
       "3    United States\n",
       "4    United States\n",
       "5           Turkey\n",
       "Name: country_main, dtype: object"
      ]
     },
     "execution_count": 13,
     "metadata": {},
     "output_type": "execute_result"
    }
   ],
   "source": [
    "df['country_main'] = df['country'].apply(lambda x: x.split(\",\")[0])\n",
    "df['country_main'].head()"
   ]
  },
  {
   "cell_type": "code",
   "execution_count": 14,
   "metadata": {
    "execution": {
     "iopub.execute_input": "2021-07-12T18:55:51.526293Z",
     "iopub.status.busy": "2021-07-12T18:55:51.525995Z",
     "iopub.status.idle": "2021-07-12T18:55:51.542757Z",
     "shell.execute_reply": "2021-07-12T18:55:51.541678Z",
     "shell.execute_reply.started": "2021-07-12T18:55:51.526264Z"
    }
   },
   "outputs": [
    {
     "data": {
      "text/plain": [
       "Movie      4834\n",
       "TV Show     145\n",
       "Name: type, dtype: int64"
      ]
     },
     "execution_count": 14,
     "metadata": {},
     "output_type": "execute_result"
    }
   ],
   "source": [
    "df['type'].value_counts()"
   ]
  },
  {
   "cell_type": "code",
   "execution_count": 15,
   "metadata": {
    "execution": {
     "iopub.execute_input": "2021-07-12T18:55:51.544959Z",
     "iopub.status.busy": "2021-07-12T18:55:51.544400Z",
     "iopub.status.idle": "2021-07-12T18:55:51.560893Z",
     "shell.execute_reply": "2021-07-12T18:55:51.559872Z",
     "shell.execute_reply.started": "2021-07-12T18:55:51.544924Z"
    }
   },
   "outputs": [
    {
     "data": {
      "text/plain": [
       "TV-MA            1724\n",
       "TV-14            1183\n",
       "R                 656\n",
       "TV-PG             426\n",
       "PG-13             378\n",
       "PG                241\n",
       "TV-Y               90\n",
       "TV-G               85\n",
       "TV-Y7              82\n",
       "NR                 62\n",
       "G                  38\n",
       "UR                  5\n",
       "United States       4\n",
       "TV-Y7-FV            3\n",
       "NC-17               2\n",
       "Name: rating, dtype: int64"
      ]
     },
     "execution_count": 15,
     "metadata": {},
     "output_type": "execute_result"
    }
   ],
   "source": [
    "df['rating'].value_counts()"
   ]
  },
  {
   "cell_type": "markdown",
   "metadata": {
    "papermill": {
     "duration": 0.044206,
     "end_time": "2021-06-22T09:27:03.528288",
     "exception": false,
     "start_time": "2021-06-22T09:27:03.484082",
     "status": "completed"
    },
    "tags": []
   },
   "source": [
    "-- Making two new dataframes, one with movies collection and other with TV shows collection:\n",
    "* movie_df\n",
    "* tv_df"
   ]
  },
  {
   "cell_type": "code",
   "execution_count": 16,
   "metadata": {
    "execution": {
     "iopub.execute_input": "2021-07-12T18:55:51.562763Z",
     "iopub.status.busy": "2021-07-12T18:55:51.562442Z",
     "iopub.status.idle": "2021-07-12T18:55:51.577219Z",
     "shell.execute_reply": "2021-07-12T18:55:51.576044Z",
     "shell.execute_reply.started": "2021-07-12T18:55:51.562733Z"
    },
    "papermill": {
     "duration": 0.060657,
     "end_time": "2021-06-22T09:27:03.633611",
     "exception": false,
     "start_time": "2021-06-22T09:27:03.572954",
     "status": "completed"
    },
    "tags": []
   },
   "outputs": [],
   "source": [
    "movie_df = df[df['type'] == 'Movie']\n",
    "tv_df = df[df['type'] == 'TV Show']"
   ]
  },
  {
   "cell_type": "code",
   "execution_count": 17,
   "metadata": {
    "execution": {
     "iopub.execute_input": "2021-07-12T18:55:51.579074Z",
     "iopub.status.busy": "2021-07-12T18:55:51.578672Z",
     "iopub.status.idle": "2021-07-12T18:55:51.605442Z",
     "shell.execute_reply": "2021-07-12T18:55:51.604651Z",
     "shell.execute_reply.started": "2021-07-12T18:55:51.579044Z"
    },
    "papermill": {
     "duration": 0.06977,
     "end_time": "2021-06-22T09:27:03.748362",
     "exception": false,
     "start_time": "2021-06-22T09:27:03.678592",
     "status": "completed"
    },
    "tags": []
   },
   "outputs": [
    {
     "data": {
      "text/html": [
       "<div>\n",
       "<style scoped>\n",
       "    .dataframe tbody tr th:only-of-type {\n",
       "        vertical-align: middle;\n",
       "    }\n",
       "\n",
       "    .dataframe tbody tr th {\n",
       "        vertical-align: top;\n",
       "    }\n",
       "\n",
       "    .dataframe thead th {\n",
       "        text-align: right;\n",
       "    }\n",
       "</style>\n",
       "<table border=\"1\" class=\"dataframe\">\n",
       "  <thead>\n",
       "    <tr style=\"text-align: right;\">\n",
       "      <th></th>\n",
       "      <th>show_id</th>\n",
       "      <th>type</th>\n",
       "      <th>title</th>\n",
       "      <th>director</th>\n",
       "      <th>cast</th>\n",
       "      <th>country</th>\n",
       "      <th>date_added</th>\n",
       "      <th>release_year</th>\n",
       "      <th>rating</th>\n",
       "      <th>duration</th>\n",
       "      <th>Genre</th>\n",
       "      <th>description</th>\n",
       "      <th>year_add</th>\n",
       "      <th>month_add</th>\n",
       "      <th>country_main</th>\n",
       "    </tr>\n",
       "  </thead>\n",
       "  <tbody>\n",
       "    <tr>\n",
       "      <th>1</th>\n",
       "      <td>s2</td>\n",
       "      <td>Movie</td>\n",
       "      <td>7:19</td>\n",
       "      <td>Jorge Michel Grau</td>\n",
       "      <td>Demián Bichir, Héctor Bonilla, Oscar Serrano, ...</td>\n",
       "      <td>Mexico</td>\n",
       "      <td>December 23, 2016</td>\n",
       "      <td>2016</td>\n",
       "      <td>TV-MA</td>\n",
       "      <td>93 min</td>\n",
       "      <td>Dramas</td>\n",
       "      <td>After a devastating earthquake hits Mexico Cit...</td>\n",
       "      <td>2016</td>\n",
       "      <td>December</td>\n",
       "      <td>Mexico</td>\n",
       "    </tr>\n",
       "    <tr>\n",
       "      <th>2</th>\n",
       "      <td>s3</td>\n",
       "      <td>Movie</td>\n",
       "      <td>23:59</td>\n",
       "      <td>Gilbert Chan</td>\n",
       "      <td>Tedd Chan, Stella Chung, Henley Hii, Lawrence ...</td>\n",
       "      <td>Singapore</td>\n",
       "      <td>December 20, 2018</td>\n",
       "      <td>2011</td>\n",
       "      <td>R</td>\n",
       "      <td>78 min</td>\n",
       "      <td>Horror Movies</td>\n",
       "      <td>When an army recruit is found dead, his fellow...</td>\n",
       "      <td>2018</td>\n",
       "      <td>December</td>\n",
       "      <td>Singapore</td>\n",
       "    </tr>\n",
       "    <tr>\n",
       "      <th>3</th>\n",
       "      <td>s4</td>\n",
       "      <td>Movie</td>\n",
       "      <td>9</td>\n",
       "      <td>Shane Acker</td>\n",
       "      <td>Elijah Wood, John C. Reilly, Jennifer Connelly...</td>\n",
       "      <td>United States</td>\n",
       "      <td>November 16, 2017</td>\n",
       "      <td>2009</td>\n",
       "      <td>PG-13</td>\n",
       "      <td>80 min</td>\n",
       "      <td>Action &amp; Adventure</td>\n",
       "      <td>In a postapocalyptic world, rag-doll robots hi...</td>\n",
       "      <td>2017</td>\n",
       "      <td>November</td>\n",
       "      <td>United States</td>\n",
       "    </tr>\n",
       "    <tr>\n",
       "      <th>4</th>\n",
       "      <td>s5</td>\n",
       "      <td>Movie</td>\n",
       "      <td>21</td>\n",
       "      <td>Robert Luketic</td>\n",
       "      <td>Jim Sturgess, Kevin Spacey, Kate Bosworth, Aar...</td>\n",
       "      <td>United States</td>\n",
       "      <td>January 1, 2020</td>\n",
       "      <td>2008</td>\n",
       "      <td>PG-13</td>\n",
       "      <td>123 min</td>\n",
       "      <td>Dramas</td>\n",
       "      <td>A brilliant group of students become card-coun...</td>\n",
       "      <td>2020</td>\n",
       "      <td>January</td>\n",
       "      <td>United States</td>\n",
       "    </tr>\n",
       "    <tr>\n",
       "      <th>6</th>\n",
       "      <td>s7</td>\n",
       "      <td>Movie</td>\n",
       "      <td>122</td>\n",
       "      <td>Yasir Al Yasiri</td>\n",
       "      <td>Amina Khalil, Ahmed Dawood, Tarek Lotfy, Ahmed...</td>\n",
       "      <td>Egypt</td>\n",
       "      <td>June 1, 2020</td>\n",
       "      <td>2019</td>\n",
       "      <td>TV-MA</td>\n",
       "      <td>95 min</td>\n",
       "      <td>Horror Movies</td>\n",
       "      <td>After an awful accident, a couple admitted to ...</td>\n",
       "      <td>2020</td>\n",
       "      <td>June</td>\n",
       "      <td>Egypt</td>\n",
       "    </tr>\n",
       "  </tbody>\n",
       "</table>\n",
       "</div>"
      ],
      "text/plain": [
       "  show_id   type  title           director  \\\n",
       "1      s2  Movie   7:19  Jorge Michel Grau   \n",
       "2      s3  Movie  23:59       Gilbert Chan   \n",
       "3      s4  Movie      9        Shane Acker   \n",
       "4      s5  Movie     21     Robert Luketic   \n",
       "6      s7  Movie    122    Yasir Al Yasiri   \n",
       "\n",
       "                                                cast        country  \\\n",
       "1  Demián Bichir, Héctor Bonilla, Oscar Serrano, ...         Mexico   \n",
       "2  Tedd Chan, Stella Chung, Henley Hii, Lawrence ...      Singapore   \n",
       "3  Elijah Wood, John C. Reilly, Jennifer Connelly...  United States   \n",
       "4  Jim Sturgess, Kevin Spacey, Kate Bosworth, Aar...  United States   \n",
       "6  Amina Khalil, Ahmed Dawood, Tarek Lotfy, Ahmed...          Egypt   \n",
       "\n",
       "          date_added  release_year rating duration               Genre  \\\n",
       "1  December 23, 2016          2016  TV-MA   93 min              Dramas   \n",
       "2  December 20, 2018          2011      R   78 min       Horror Movies   \n",
       "3  November 16, 2017          2009  PG-13   80 min  Action & Adventure   \n",
       "4    January 1, 2020          2008  PG-13  123 min              Dramas   \n",
       "6       June 1, 2020          2019  TV-MA   95 min       Horror Movies   \n",
       "\n",
       "                                         description year_add month_add  \\\n",
       "1  After a devastating earthquake hits Mexico Cit...     2016  December   \n",
       "2  When an army recruit is found dead, his fellow...     2018  December   \n",
       "3  In a postapocalyptic world, rag-doll robots hi...     2017  November   \n",
       "4  A brilliant group of students become card-coun...     2020   January   \n",
       "6  After an awful accident, a couple admitted to ...     2020      June   \n",
       "\n",
       "    country_main  \n",
       "1         Mexico  \n",
       "2      Singapore  \n",
       "3  United States  \n",
       "4  United States  \n",
       "6          Egypt  "
      ]
     },
     "execution_count": 17,
     "metadata": {},
     "output_type": "execute_result"
    }
   ],
   "source": [
    "movie_df.head()"
   ]
  },
  {
   "cell_type": "markdown",
   "metadata": {},
   "source": [
    "## 3. Exploratory Data Analysis"
   ]
  },
  {
   "cell_type": "markdown",
   "metadata": {},
   "source": [
    "### --> Number of Movies vs TV Shows"
   ]
  },
  {
   "cell_type": "code",
   "execution_count": 18,
   "metadata": {
    "execution": {
     "iopub.execute_input": "2021-07-12T18:55:51.607026Z",
     "iopub.status.busy": "2021-07-12T18:55:51.606683Z",
     "iopub.status.idle": "2021-07-12T18:55:51.781802Z",
     "shell.execute_reply": "2021-07-12T18:55:51.780802Z",
     "shell.execute_reply.started": "2021-07-12T18:55:51.606994Z"
    }
   },
   "outputs": [
    {
     "data": {
      "text/plain": [
       "<matplotlib.axes._subplots.AxesSubplot at 0x2868833cdd8>"
      ]
     },
     "execution_count": 18,
     "metadata": {},
     "output_type": "execute_result"
    },
    {
     "data": {
      "image/png": "[encoded data removed]",
      "text/plain": [
       "<Figure size 432x288 with 1 Axes>"
      ]
     },
     "metadata": {},
     "output_type": "display_data"
    }
   ],
   "source": [
    "sb.set(style=\"darkgrid\")\n",
    "sb.countplot(x=\"type\", data= df, palette=\"Set2\")"
   ]
  },
  {
   "cell_type": "markdown",
   "metadata": {},
   "source": [
    "- There are more Movies on Netflix than TV shows."
   ]
  },
  {
   "cell_type": "markdown",
   "metadata": {},
   "source": [
    "### --> Movies & TV Shows Ratings analysis"
   ]
  },
  {
   "cell_type": "code",
   "execution_count": 19,
   "metadata": {
    "execution": {
     "iopub.execute_input": "2021-07-12T18:55:51.783445Z",
     "iopub.status.busy": "2021-07-12T18:55:51.783139Z",
     "iopub.status.idle": "2021-07-12T18:55:52.164758Z",
     "shell.execute_reply": "2021-07-12T18:55:52.163850Z",
     "shell.execute_reply.started": "2021-07-12T18:55:51.783414Z"
    }
   },
   "outputs": [
    {
     "data": {
      "text/plain": [
       "<matplotlib.axes._subplots.AxesSubplot at 0x2868838d400>"
      ]
     },
     "execution_count": 19,
     "metadata": {},
     "output_type": "execute_result"
    },
    {
     "data": {
      "image/png": "[encoded data removed]",
      "text/plain": [
       "<Figure size 864x720 with 1 Axes>"
      ]
     },
     "metadata": {},
     "output_type": "display_data"
    }
   ],
   "source": [
    "#MOVIES RATINGS\n",
    "plt.figure(figsize=(12,10))\n",
    "sb.set(style=\"darkgrid\")\n",
    "sb.countplot(x=\"rating\", data= movie_df, palette=\"Set2\", order=movie_df['rating'].value_counts().index[0:15])"
   ]
  },
  {
   "cell_type": "markdown",
   "metadata": {},
   "source": [
    "- The largest count of movies are made with the 'TV-MA' rating.\"TV-MA\" is a rating assigned by the TV Parental Guidelines to a television program that was designed for mature audiences only. \n",
    "- Second largest is the 'TV-14' stands for content that may be inappropriate for children younger than 14 years of age.\n",
    "- Third largest is the  very popular 'R' rating.An R-rated film is a film that has been assessed as having material which may be unsuitable for children under the age of 17."
   ]
  },
  {
   "cell_type": "code",
   "execution_count": 20,
   "metadata": {
    "execution": {
     "iopub.execute_input": "2021-07-12T18:55:52.166536Z",
     "iopub.status.busy": "2021-07-12T18:55:52.166068Z",
     "iopub.status.idle": "2021-07-12T18:55:52.427010Z",
     "shell.execute_reply": "2021-07-12T18:55:52.425962Z",
     "shell.execute_reply.started": "2021-07-12T18:55:52.166487Z"
    }
   },
   "outputs": [
    {
     "data": {
      "text/plain": [
       "<matplotlib.axes._subplots.AxesSubplot at 0x28688428a58>"
      ]
     },
     "execution_count": 20,
     "metadata": {},
     "output_type": "execute_result"
    },
    {
     "data": {
      "image/png": "[encoded data removed]",
      "text/plain": [
       "<Figure size 864x720 with 1 Axes>"
      ]
     },
     "metadata": {},
     "output_type": "display_data"
    }
   ],
   "source": [
    "# TV SHOWS RATINGS\n",
    "plt.figure(figsize=(12,10))\n",
    "sb.set(style=\"darkgrid\")\n",
    "sb.countplot(x=\"rating\", data=tv_df, palette=\"Accent\", order=tv_df['rating'].value_counts().index[0:15])"
   ]
  },
  {
   "cell_type": "markdown",
   "metadata": {},
   "source": [
    "- Most of the TV Shows has 'TV-14' ratings which stands for the content can be inappropriate for children under 14 years of age.\n",
    "- Second highest count of ratings in TV Shows is 'TV-MA', for which the content is for matured audience only.\n",
    "- TV Shows has least amount of counts with 'R' ratings."
   ]
  },
  {
   "cell_type": "markdown",
   "metadata": {},
   "source": [
    "### --> Yearly Analysis of content"
   ]
  },
  {
   "cell_type": "code",
   "execution_count": 21,
   "metadata": {
    "execution": {
     "iopub.execute_input": "2021-07-12T18:55:52.428776Z",
     "iopub.status.busy": "2021-07-12T18:55:52.428413Z",
     "iopub.status.idle": "2021-07-12T18:55:52.910637Z",
     "shell.execute_reply": "2021-07-12T18:55:52.909436Z",
     "shell.execute_reply.started": "2021-07-12T18:55:52.428742Z"
    }
   },
   "outputs": [
    {
     "data": {
      "text/plain": [
       "<matplotlib.axes._subplots.AxesSubplot at 0x28688428630>"
      ]
     },
     "execution_count": 21,
     "metadata": {},
     "output_type": "execute_result"
    },
    {
     "data": {
      "image/png": "[encoded data removed]",
      "text/plain": [
       "<Figure size 864x720 with 1 Axes>"
      ]
     },
     "metadata": {},
     "output_type": "display_data"
    }
   ],
   "source": [
    "plt.figure(figsize=(12,10))\n",
    "sb.set(style=\"darkgrid\")\n",
    "sb.countplot(y=\"release_year\", data= df, palette=\"cool\", order= df['release_year'].value_counts().index[0:15],hue=df['type'])"
   ]
  },
  {
   "cell_type": "markdown",
   "metadata": {},
   "source": [
    "- We can see that Netflix released most number of content in year 2017.\n",
    "- Noticeable growth in releasing content can be seen from the year 2015."
   ]
  },
  {
   "cell_type": "markdown",
   "metadata": {},
   "source": [
    "### --> Analysis of movies duration"
   ]
  },
  {
   "cell_type": "code",
   "execution_count": 22,
   "metadata": {
    "execution": {
     "iopub.execute_input": "2021-07-12T18:55:52.912697Z",
     "iopub.status.busy": "2021-07-12T18:55:52.912275Z",
     "iopub.status.idle": "2021-07-12T18:55:52.932769Z",
     "shell.execute_reply": "2021-07-12T18:55:52.931411Z",
     "shell.execute_reply.started": "2021-07-12T18:55:52.912648Z"
    }
   },
   "outputs": [
    {
     "data": {
      "text/plain": [
       "1        93\n",
       "2        78\n",
       "3        80\n",
       "4       123\n",
       "6        95\n",
       "7       119\n",
       "8       118\n",
       "9       143\n",
       "10      103\n",
       "13       89\n",
       "14       91\n",
       "15      149\n",
       "17      144\n",
       "18      124\n",
       "20      110\n",
       "21      128\n",
       "22      117\n",
       "23      100\n",
       "27       99\n",
       "28       95\n",
       "31      102\n",
       "32      104\n",
       "33       99\n",
       "34      105\n",
       "36      125\n",
       "37      119\n",
       "39       81\n",
       "40       97\n",
       "41      106\n",
       "42       99\n",
       "       ... \n",
       "7739    120\n",
       "7741    115\n",
       "7742    103\n",
       "7744     72\n",
       "7745     88\n",
       "7747     98\n",
       "7748    115\n",
       "7751    130\n",
       "7754    160\n",
       "7757     61\n",
       "7758    101\n",
       "7760    109\n",
       "7761     92\n",
       "7762    131\n",
       "7763    120\n",
       "7764    159\n",
       "7765     89\n",
       "7768    126\n",
       "7769    154\n",
       "7770     96\n",
       "7771     12\n",
       "7772    105\n",
       "7773     89\n",
       "7774    158\n",
       "7776    104\n",
       "7778     88\n",
       "7780     94\n",
       "7781     88\n",
       "7782     99\n",
       "7783    111\n",
       "Name: duration, Length: 4834, dtype: int32"
      ]
     },
     "execution_count": 22,
     "metadata": {},
     "output_type": "execute_result"
    }
   ],
   "source": [
    "movie_df['duration']=movie_df['duration'].str.replace(' min','')\n",
    "movie_df['duration']=movie_df['duration'].astype(str).astype(int)\n",
    "movie_df['duration']"
   ]
  },
  {
   "cell_type": "code",
   "execution_count": 23,
   "metadata": {
    "execution": {
     "iopub.execute_input": "2021-07-12T18:55:52.934443Z",
     "iopub.status.busy": "2021-07-12T18:55:52.934098Z",
     "iopub.status.idle": "2021-07-12T18:55:53.502817Z",
     "shell.execute_reply": "2021-07-12T18:55:53.501597Z",
     "shell.execute_reply.started": "2021-07-12T18:55:52.934411Z"
    }
   },
   "outputs": [
    {
     "data": {
      "text/plain": [
       "<matplotlib.axes._subplots.AxesSubplot at 0x28688902860>"
      ]
     },
     "execution_count": 23,
     "metadata": {},
     "output_type": "execute_result"
    },
    {
     "data": {
      "image/png": "[encoded data removed]",
      "text/plain": [
       "<Figure size 432x288 with 1 Axes>"
      ]
     },
     "metadata": {},
     "output_type": "display_data"
    }
   ],
   "source": [
    "sb.set(style=\"darkgrid\")\n",
    "sb.kdeplot(data=movie_df['duration'], shade=True)"
   ]
  },
  {
   "cell_type": "markdown",
   "metadata": {},
   "source": [
    "- So, a good amount of movies on Netflix are among the **duration of 75-120 mins.**"
   ]
  },
  {
   "cell_type": "markdown",
   "metadata": {},
   "source": [
    "### --> Trends of movies duration"
   ]
  },
  {
   "cell_type": "code",
   "execution_count": 24,
   "metadata": {
    "execution": {
     "iopub.execute_input": "2021-07-12T18:55:53.504518Z",
     "iopub.status.busy": "2021-07-12T18:55:53.504218Z",
     "iopub.status.idle": "2021-07-12T18:55:53.834600Z",
     "shell.execute_reply": "2021-07-12T18:55:53.833473Z",
     "shell.execute_reply.started": "2021-07-12T18:55:53.504488Z"
    }
   },
   "outputs": [
    {
     "data": {
      "image/png": "[encoded data removed]",
      "text/plain": [
       "<Figure size 1080x432 with 1 Axes>"
      ]
     },
     "metadata": {},
     "output_type": "display_data"
    }
   ],
   "source": [
    "duration_year = movie_df.groupby(['release_year']).mean()\n",
    "duration_year = duration_year.sort_index()\n",
    "\n",
    "plt.figure(figsize=(15,6))\n",
    "sb.lineplot(x=duration_year.index, y=duration_year.duration.values)\n",
    "plt.box(on=None)\n",
    "plt.ylabel('Movie duration in minutes');\n",
    "plt.xlabel('Year of released');\n",
    "plt.title(\"Trends of Movie's Duration over the Years\", fontsize=20, color='Green');"
   ]
  },
  {
   "cell_type": "markdown",
   "metadata": {},
   "source": [
    "- In the years of **1960 to 1965**, Movies durations were over **200 minutes, after 1965 the durations became comparitively shorter.**\n",
    "- From the year **1980**, we can see consistent trend of movie durations, of which duration time is around in **between 100-150 minutes.**"
   ]
  },
  {
   "cell_type": "markdown",
   "metadata": {},
   "source": [
    "### --> Analysis of TV Shows with most number of seasons"
   ]
  },
  {
   "cell_type": "code",
   "execution_count": 25,
   "metadata": {
    "execution": {
     "iopub.execute_input": "2021-07-12T18:55:53.836688Z",
     "iopub.status.busy": "2021-07-12T18:55:53.836266Z",
     "iopub.status.idle": "2021-07-12T18:55:53.849912Z",
     "shell.execute_reply": "2021-07-12T18:55:53.848833Z",
     "shell.execute_reply.started": "2021-07-12T18:55:53.836642Z"
    }
   },
   "outputs": [
    {
     "data": {
      "text/plain": [
       "5       1\n",
       "132     1\n",
       "218     1\n",
       "260     1\n",
       "276     1\n",
       "284     2\n",
       "322     1\n",
       "337     1\n",
       "365     1\n",
       "426     1\n",
       "531     1\n",
       "578     1\n",
       "584     8\n",
       "706     1\n",
       "805     1\n",
       "941     1\n",
       "958     1\n",
       "1018    1\n",
       "1028    1\n",
       "1079    1\n",
       "1103    1\n",
       "1105    1\n",
       "1181    9\n",
       "1186    1\n",
       "1301    1\n",
       "1470    6\n",
       "1525    1\n",
       "1534    1\n",
       "1540    1\n",
       "1629    1\n",
       "       ..\n",
       "6296    1\n",
       "6322    1\n",
       "6344    1\n",
       "6356    1\n",
       "6359    6\n",
       "6369    1\n",
       "6390    1\n",
       "6415    8\n",
       "6435    1\n",
       "6453    1\n",
       "6477    2\n",
       "6672    1\n",
       "6675    1\n",
       "6939    1\n",
       "6952    1\n",
       "6961    1\n",
       "6979    1\n",
       "7041    1\n",
       "7056    2\n",
       "7088    1\n",
       "7118    1\n",
       "7120    3\n",
       "7177    2\n",
       "7313    1\n",
       "7353    1\n",
       "7385    1\n",
       "7400    4\n",
       "7492    1\n",
       "7666    2\n",
       "7721    2\n",
       "Name: duration, Length: 145, dtype: int32"
      ]
     },
     "execution_count": 25,
     "metadata": {},
     "output_type": "execute_result"
    }
   ],
   "source": [
    "tv_df['duration']=tv_df['duration'].str.replace(' Season','')\n",
    "tv_df['duration']=tv_df['duration'].str.replace('s','')\n",
    "tv_df['duration']=tv_df['duration'].astype(str).astype(int)\n",
    "tv_df['duration']"
   ]
  },
  {
   "cell_type": "markdown",
   "metadata": {},
   "source": [
    "--> Extract TV Shows titles and its number of seasons:"
   ]
  },
  {
   "cell_type": "code",
   "execution_count": 26,
   "metadata": {
    "execution": {
     "iopub.execute_input": "2021-07-12T18:55:53.851651Z",
     "iopub.status.busy": "2021-07-12T18:55:53.851289Z",
     "iopub.status.idle": "2021-07-12T18:55:53.862149Z",
     "shell.execute_reply": "2021-07-12T18:55:53.861338Z",
     "shell.execute_reply.started": "2021-07-12T18:55:53.851610Z"
    }
   },
   "outputs": [],
   "source": [
    "#Extract the columns from tv_df\n",
    "columns=['title','duration']\n",
    "tv_shows = tv_df[columns]"
   ]
  },
  {
   "cell_type": "code",
   "execution_count": 27,
   "metadata": {
    "execution": {
     "iopub.execute_input": "2021-07-12T18:55:53.867526Z",
     "iopub.status.busy": "2021-07-12T18:55:53.866995Z",
     "iopub.status.idle": "2021-07-12T18:55:53.884958Z",
     "shell.execute_reply": "2021-07-12T18:55:53.883626Z",
     "shell.execute_reply.started": "2021-07-12T18:55:53.867491Z"
    }
   },
   "outputs": [
    {
     "data": {
      "text/html": [
       "<div>\n",
       "<style scoped>\n",
       "    .dataframe tbody tr th:only-of-type {\n",
       "        vertical-align: middle;\n",
       "    }\n",
       "\n",
       "    .dataframe tbody tr th {\n",
       "        vertical-align: top;\n",
       "    }\n",
       "\n",
       "    .dataframe thead th {\n",
       "        text-align: right;\n",
       "    }\n",
       "</style>\n",
       "<table border=\"1\" class=\"dataframe\">\n",
       "  <thead>\n",
       "    <tr style=\"text-align: right;\">\n",
       "      <th></th>\n",
       "      <th>title</th>\n",
       "      <th>duration</th>\n",
       "    </tr>\n",
       "  </thead>\n",
       "  <tbody>\n",
       "    <tr>\n",
       "      <th>5912</th>\n",
       "      <td>Supernatural</td>\n",
       "      <td>15</td>\n",
       "    </tr>\n",
       "    <tr>\n",
       "      <th>4404</th>\n",
       "      <td>Naruto</td>\n",
       "      <td>9</td>\n",
       "    </tr>\n",
       "    <tr>\n",
       "      <th>1181</th>\n",
       "      <td>Call the Midwife</td>\n",
       "      <td>9</td>\n",
       "    </tr>\n",
       "    <tr>\n",
       "      <th>584</th>\n",
       "      <td>Arrow</td>\n",
       "      <td>8</td>\n",
       "    </tr>\n",
       "    <tr>\n",
       "      <th>6415</th>\n",
       "      <td>The Great British Baking Show</td>\n",
       "      <td>8</td>\n",
       "    </tr>\n",
       "    <tr>\n",
       "      <th>5291</th>\n",
       "      <td>Royal Pains</td>\n",
       "      <td>8</td>\n",
       "    </tr>\n",
       "    <tr>\n",
       "      <th>6359</th>\n",
       "      <td>The Flash</td>\n",
       "      <td>6</td>\n",
       "    </tr>\n",
       "    <tr>\n",
       "      <th>2130</th>\n",
       "      <td>Father Brown</td>\n",
       "      <td>6</td>\n",
       "    </tr>\n",
       "    <tr>\n",
       "      <th>1470</th>\n",
       "      <td>Comedians in Cars Getting Coffee</td>\n",
       "      <td>6</td>\n",
       "    </tr>\n",
       "    <tr>\n",
       "      <th>2313</th>\n",
       "      <td>Fullmetal Alchemist: Brotherhood</td>\n",
       "      <td>5</td>\n",
       "    </tr>\n",
       "    <tr>\n",
       "      <th>5908</th>\n",
       "      <td>Supergirl</td>\n",
       "      <td>5</td>\n",
       "    </tr>\n",
       "    <tr>\n",
       "      <th>2504</th>\n",
       "      <td>Gotham</td>\n",
       "      <td>5</td>\n",
       "    </tr>\n",
       "    <tr>\n",
       "      <th>1647</th>\n",
       "      <td>DC's Legends of Tomorrow</td>\n",
       "      <td>5</td>\n",
       "    </tr>\n",
       "    <tr>\n",
       "      <th>4121</th>\n",
       "      <td>Miraculous: Tales of Ladybug &amp; Cat Noir</td>\n",
       "      <td>5</td>\n",
       "    </tr>\n",
       "    <tr>\n",
       "      <th>4047</th>\n",
       "      <td>Merlin</td>\n",
       "      <td>5</td>\n",
       "    </tr>\n",
       "    <tr>\n",
       "      <th>4033</th>\n",
       "      <td>Men on a Mission</td>\n",
       "      <td>5</td>\n",
       "    </tr>\n",
       "    <tr>\n",
       "      <th>5226</th>\n",
       "      <td>Riverdale</td>\n",
       "      <td>4</td>\n",
       "    </tr>\n",
       "    <tr>\n",
       "      <th>3544</th>\n",
       "      <td>Last Tango in Halifax</td>\n",
       "      <td>4</td>\n",
       "    </tr>\n",
       "    <tr>\n",
       "      <th>1687</th>\n",
       "      <td>Degrassi: Next Class</td>\n",
       "      <td>4</td>\n",
       "    </tr>\n",
       "    <tr>\n",
       "      <th>7400</th>\n",
       "      <td>Velvet</td>\n",
       "      <td>4</td>\n",
       "    </tr>\n",
       "  </tbody>\n",
       "</table>\n",
       "</div>"
      ],
      "text/plain": [
       "                                        title  duration\n",
       "5912                             Supernatural        15\n",
       "4404                                   Naruto         9\n",
       "1181                         Call the Midwife         9\n",
       "584                                     Arrow         8\n",
       "6415            The Great British Baking Show         8\n",
       "5291                              Royal Pains         8\n",
       "6359                                The Flash         6\n",
       "2130                             Father Brown         6\n",
       "1470         Comedians in Cars Getting Coffee         6\n",
       "2313         Fullmetal Alchemist: Brotherhood         5\n",
       "5908                                Supergirl         5\n",
       "2504                                   Gotham         5\n",
       "1647                 DC's Legends of Tomorrow         5\n",
       "4121  Miraculous: Tales of Ladybug & Cat Noir         5\n",
       "4047                                   Merlin         5\n",
       "4033                         Men on a Mission         5\n",
       "5226                                Riverdale         4\n",
       "3544                    Last Tango in Halifax         4\n",
       "1687                     Degrassi: Next Class         4\n",
       "7400                                   Velvet         4"
      ]
     },
     "execution_count": 27,
     "metadata": {},
     "output_type": "execute_result"
    }
   ],
   "source": [
    "#sort the dataframe by number of seasons\n",
    "tv_shows = tv_shows.sort_values(by='duration',ascending=False)\n",
    "tv_shows\n",
    "top20 = tv_shows[0:20]\n",
    "top20"
   ]
  },
  {
   "cell_type": "code",
   "execution_count": 28,
   "metadata": {
    "execution": {
     "iopub.execute_input": "2021-07-12T18:55:53.888075Z",
     "iopub.status.busy": "2021-07-12T18:55:53.887738Z",
     "iopub.status.idle": "2021-07-12T18:55:54.396096Z",
     "shell.execute_reply": "2021-07-12T18:55:54.394948Z",
     "shell.execute_reply.started": "2021-07-12T18:55:53.888046Z"
    }
   },
   "outputs": [
    {
     "data": {
      "text/plain": [
       "<matplotlib.axes._subplots.AxesSubplot at 0x286883d0e48>"
      ]
     },
     "execution_count": 28,
     "metadata": {},
     "output_type": "execute_result"
    },
    {
     "data": {
      "text/plain": [
       "<Figure size 720x432 with 0 Axes>"
      ]
     },
     "metadata": {},
     "output_type": "display_data"
    },
    {
     "data": {
      "image/png": "[encoded data removed]",
      "text/plain": [
       "<Figure size 432x288 with 1 Axes>"
      ]
     },
     "metadata": {},
     "output_type": "display_data"
    }
   ],
   "source": [
    "plt.figure(figsize=(10,6))\n",
    "top20.plot(kind='bar',x='title',y='duration', color='purple')"
   ]
  },
  {
   "cell_type": "markdown",
   "metadata": {},
   "source": [
    "- **Supernatural , Naruto** has the highest numbers of seasons"
   ]
  },
  {
   "cell_type": "code",
   "execution_count": 29,
   "metadata": {
    "execution": {
     "iopub.execute_input": "2021-07-12T18:55:54.397745Z",
     "iopub.status.busy": "2021-07-12T18:55:54.397453Z",
     "iopub.status.idle": "2021-07-12T18:55:54.581397Z",
     "shell.execute_reply": "2021-07-12T18:55:54.580202Z",
     "shell.execute_reply.started": "2021-07-12T18:55:54.397716Z"
    }
   },
   "outputs": [
    {
     "data": {
      "image/png": "[encoded data removed]",
      "text/plain": [
       "<Figure size 576x432 with 1 Axes>"
      ]
     },
     "metadata": {},
     "output_type": "display_data"
    }
   ],
   "source": [
    "# TV SHOWS AND THEIR SEASONS\n",
    "plt.figure(figsize=(8, 6))\n",
    "labels=['1 Season', '2 Season', '3 Season']\n",
    "_, _, texts = plt.pie(df.duration.value_counts()[:3], labels=labels, autopct='%1.2f%%', startangle=90, \n",
    "                      explode=(0.0, 0.1, 0.2), colors=['#003f5c', '#bc5090', '#ffa600'])\n",
    "plt.axis('equal')\n",
    "plt.title('Seasons Available on Netflix', fontsize=20, fontweight='bold');\n",
    "for text in texts:\n",
    "    text.set_color('white')"
   ]
  },
  {
   "cell_type": "markdown",
   "metadata": {},
   "source": [
    "- From the chart we can analyze, **35.04% TV Shows has only 1 Season,32.48% TV Shows has 2 seasons and 32.48% Tv Shows has 3 seasons** available"
   ]
  },
  {
   "cell_type": "markdown",
   "metadata": {},
   "source": [
    "### --> Countries on top for movies content creation"
   ]
  },
  {
   "cell_type": "code",
   "execution_count": 30,
   "metadata": {
    "execution": {
     "iopub.execute_input": "2021-07-12T18:55:54.582926Z",
     "iopub.status.busy": "2021-07-12T18:55:54.582598Z",
     "iopub.status.idle": "2021-07-12T18:55:55.012135Z",
     "shell.execute_reply": "2021-07-12T18:55:55.011050Z",
     "shell.execute_reply.started": "2021-07-12T18:55:54.582891Z"
    }
   },
   "outputs": [
    {
     "data": {
      "text/plain": [
       "<matplotlib.axes._subplots.AxesSubplot at 0x286891d34e0>"
      ]
     },
     "execution_count": 30,
     "metadata": {},
     "output_type": "execute_result"
    },
    {
     "data": {
      "image/png": "[encoded data removed]",
      "text/plain": [
       "<Figure size 1080x576 with 1 Axes>"
      ]
     },
     "metadata": {},
     "output_type": "display_data"
    }
   ],
   "source": [
    "plt.figure(figsize=(15,8))\n",
    "sb.set(style=\"darkgrid\")\n",
    "sb.countplot(x=\"country_main\", data=movie_df, palette=\"Accent\", order=movie_df['country_main'].value_counts().index[0:15])"
   ]
  },
  {
   "cell_type": "markdown",
   "metadata": {},
   "source": [
    "- **United States** creates highest amount of movies followed by ***India and UK.***\n"
   ]
  },
  {
   "cell_type": "markdown",
   "metadata": {},
   "source": [
    "### --> Countries on top for TV Show content creation"
   ]
  },
  {
   "cell_type": "code",
   "execution_count": 31,
   "metadata": {
    "execution": {
     "iopub.execute_input": "2021-07-12T18:55:55.013809Z",
     "iopub.status.busy": "2021-07-12T18:55:55.013497Z",
     "iopub.status.idle": "2021-07-12T18:55:55.403487Z",
     "shell.execute_reply": "2021-07-12T18:55:55.402429Z",
     "shell.execute_reply.started": "2021-07-12T18:55:55.013779Z"
    }
   },
   "outputs": [
    {
     "data": {
      "text/plain": [
       "<matplotlib.axes._subplots.AxesSubplot at 0x28689245b70>"
      ]
     },
     "execution_count": 31,
     "metadata": {},
     "output_type": "execute_result"
    },
    {
     "data": {
      "image/png": "[encoded data removed]",
      "text/plain": [
       "<Figure size 1296x576 with 1 Axes>"
      ]
     },
     "metadata": {},
     "output_type": "display_data"
    }
   ],
   "source": [
    "plt.figure(figsize=(18,8))\n",
    "sb.set(style=\"darkgrid\")\n",
    "sb.countplot(x=\"country_main\", data=tv_df, palette=\"Accent\", order=tv_df['country_main'].value_counts().index[0:15])"
   ]
  },
  {
   "cell_type": "markdown",
   "metadata": {},
   "source": [
    "- **United States,United Kingdom,South Korea,Japan** creates most of the amount of TV Shows on netflix."
   ]
  },
  {
   "cell_type": "markdown",
   "metadata": {},
   "source": [
    "### -->Understanding what content is available in different countries"
   ]
  },
  {
   "cell_type": "code",
   "execution_count": 32,
   "metadata": {
    "execution": {
     "iopub.execute_input": "2021-07-12T18:55:55.405138Z",
     "iopub.status.busy": "2021-07-12T18:55:55.404823Z",
     "iopub.status.idle": "2021-07-12T18:55:55.410129Z",
     "shell.execute_reply": "2021-07-12T18:55:55.409215Z",
     "shell.execute_reply.started": "2021-07-12T18:55:55.405109Z"
    }
   },
   "outputs": [],
   "source": [
    "# Different Genres from Countries\n",
    "columns=['Genre','country_main']\n",
    "gen_country = df[columns]"
   ]
  },
  {
   "cell_type": "code",
   "execution_count": 33,
   "metadata": {
    "execution": {
     "iopub.execute_input": "2021-07-12T18:55:55.411533Z",
     "iopub.status.busy": "2021-07-12T18:55:55.411264Z",
     "iopub.status.idle": "2021-07-12T18:55:55.433586Z",
     "shell.execute_reply": "2021-07-12T18:55:55.432455Z",
     "shell.execute_reply.started": "2021-07-12T18:55:55.411507Z"
    }
   },
   "outputs": [
    {
     "data": {
      "text/html": [
       "<div>\n",
       "<style scoped>\n",
       "    .dataframe tbody tr th:only-of-type {\n",
       "        vertical-align: middle;\n",
       "    }\n",
       "\n",
       "    .dataframe tbody tr th {\n",
       "        vertical-align: top;\n",
       "    }\n",
       "\n",
       "    .dataframe thead th {\n",
       "        text-align: right;\n",
       "    }\n",
       "</style>\n",
       "<table border=\"1\" class=\"dataframe\">\n",
       "  <thead>\n",
       "    <tr style=\"text-align: right;\">\n",
       "      <th></th>\n",
       "      <th>Genre</th>\n",
       "      <th>country_main</th>\n",
       "    </tr>\n",
       "  </thead>\n",
       "  <tbody>\n",
       "    <tr>\n",
       "      <th>1</th>\n",
       "      <td>Dramas</td>\n",
       "      <td>Mexico</td>\n",
       "    </tr>\n",
       "    <tr>\n",
       "      <th>2</th>\n",
       "      <td>Horror Movies</td>\n",
       "      <td>Singapore</td>\n",
       "    </tr>\n",
       "    <tr>\n",
       "      <th>3</th>\n",
       "      <td>Action &amp; Adventure</td>\n",
       "      <td>United States</td>\n",
       "    </tr>\n",
       "    <tr>\n",
       "      <th>4</th>\n",
       "      <td>Dramas</td>\n",
       "      <td>United States</td>\n",
       "    </tr>\n",
       "    <tr>\n",
       "      <th>5</th>\n",
       "      <td>International TV Shows</td>\n",
       "      <td>Turkey</td>\n",
       "    </tr>\n",
       "  </tbody>\n",
       "</table>\n",
       "</div>"
      ],
      "text/plain": [
       "                    Genre   country_main\n",
       "1                  Dramas         Mexico\n",
       "2           Horror Movies      Singapore\n",
       "3      Action & Adventure  United States\n",
       "4                  Dramas  United States\n",
       "5  International TV Shows         Turkey"
      ]
     },
     "execution_count": 33,
     "metadata": {},
     "output_type": "execute_result"
    }
   ],
   "source": [
    "gen_country.head()"
   ]
  },
  {
   "cell_type": "code",
   "execution_count": 34,
   "metadata": {
    "execution": {
     "iopub.execute_input": "2021-07-12T18:55:55.435455Z",
     "iopub.status.busy": "2021-07-12T18:55:55.434983Z",
     "iopub.status.idle": "2021-07-12T18:55:55.454672Z",
     "shell.execute_reply": "2021-07-12T18:55:55.453793Z",
     "shell.execute_reply.started": "2021-07-12T18:55:55.435411Z"
    }
   },
   "outputs": [
    {
     "data": {
      "text/plain": [
       "Dramas                          1372\n",
       "Comedies                        1054\n",
       "Action & Adventure               711\n",
       "Children & Family Movies         453\n",
       "Documentaries                    365\n",
       "Stand-Up Comedy                  296\n",
       "Horror Movies                    243\n",
       "International Movies             109\n",
       "Classic Movies                    69\n",
       "Thrillers                         49\n",
       "International TV Shows            43\n",
       "Movies                            32\n",
       "Crime TV Shows                    31\n",
       "Independent Movies                20\n",
       "British TV Shows                  20\n",
       "Anime Features                    18\n",
       "Music & Musicals                  17\n",
       "Cult Movies                       11\n",
       "Kids' TV                          11\n",
       "Sci-Fi & Fantasy                  11\n",
       "Anime Series                       9\n",
       "Docuseries                         9\n",
       "Stand-Up Comedy & Talk Shows       7\n",
       "TV Shows                           6\n",
       "TV Comedies                        3\n",
       "Romantic Movies                    3\n",
       "TV Action & Adventure              2\n",
       "Romantic TV Shows                  1\n",
       "LGBTQ Movies                       1\n",
       "Reality TV                         1\n",
       "TV Horror                          1\n",
       "Classic & Cult TV                  1\n",
       "Name: Genre, dtype: int64"
      ]
     },
     "execution_count": 34,
     "metadata": {},
     "output_type": "execute_result"
    }
   ],
   "source": [
    "gen_country['Genre'].value_counts()"
   ]
  },
  {
   "cell_type": "code",
   "execution_count": 35,
   "metadata": {
    "execution": {
     "iopub.execute_input": "2021-07-12T18:55:55.456609Z",
     "iopub.status.busy": "2021-07-12T18:55:55.456144Z",
     "iopub.status.idle": "2021-07-12T18:55:55.474713Z",
     "shell.execute_reply": "2021-07-12T18:55:55.473590Z",
     "shell.execute_reply.started": "2021-07-12T18:55:55.456568Z"
    }
   },
   "outputs": [
    {
     "data": {
      "text/plain": [
       "[1372,\n",
       " 1054,\n",
       " 711,\n",
       " 453,\n",
       " 365,\n",
       " 296,\n",
       " 243,\n",
       " 109,\n",
       " 69,\n",
       " 49,\n",
       " 43,\n",
       " 32,\n",
       " 31,\n",
       " 20,\n",
       " 20,\n",
       " 18,\n",
       " 17,\n",
       " 11,\n",
       " 11,\n",
       " 11,\n",
       " 9,\n",
       " 9,\n",
       " 7,\n",
       " 6,\n",
       " 3,\n",
       " 3,\n",
       " 2,\n",
       " 1,\n",
       " 1,\n",
       " 1,\n",
       " 1,\n",
       " 1]"
      ]
     },
     "execution_count": 35,
     "metadata": {},
     "output_type": "execute_result"
    }
   ],
   "source": [
    "size = gen_country['Genre'].value_counts().tolist()\n",
    "size"
   ]
  },
  {
   "cell_type": "code",
   "execution_count": 36,
   "metadata": {
    "execution": {
     "iopub.execute_input": "2021-07-12T18:55:55.476872Z",
     "iopub.status.busy": "2021-07-12T18:55:55.476399Z",
     "iopub.status.idle": "2021-07-12T18:55:56.188713Z",
     "shell.execute_reply": "2021-07-12T18:55:56.187307Z",
     "shell.execute_reply.started": "2021-07-12T18:55:55.476768Z"
    }
   },
   "outputs": [
    {
     "data": {
      "image/png": "[encoded data removed]",
      "text/plain": [
       "<Figure size 2160x1080 with 1 Axes>"
      ]
     },
     "metadata": {},
     "output_type": "display_data"
    }
   ],
   "source": [
    "# GENRES BY COUNTRIES\n",
    "import squarify\n",
    "plt.figure(figsize=(30,15))\n",
    "squarify.plot(value= gen_country['Genre'], label= gen_country['country_main'], sizes= size, alpha=0.8)\n",
    "plt.rc('font', size=14)\n",
    "plt.show()"
   ]
  },
  {
   "cell_type": "markdown",
   "metadata": {},
   "source": [
    "- United states produces most amount of content in 'Comedies' and 'Childern & Family movies' Genres."
   ]
  },
  {
   "cell_type": "markdown",
   "metadata": {},
   "source": [
    "### --> Contents released by years"
   ]
  },
  {
   "cell_type": "code",
   "execution_count": 37,
   "metadata": {
    "execution": {
     "iopub.execute_input": "2021-07-12T18:55:56.190486Z",
     "iopub.status.busy": "2021-07-12T18:55:56.190176Z",
     "iopub.status.idle": "2021-07-12T18:55:56.483975Z",
     "shell.execute_reply": "2021-07-12T18:55:56.482843Z",
     "shell.execute_reply.started": "2021-07-12T18:55:56.190456Z"
    }
   },
   "outputs": [
    {
     "data": {
      "image/png": "[encoded data removed]",
      "text/plain": [
       "<Figure size 648x504 with 1 Axes>"
      ]
     },
     "metadata": {},
     "output_type": "display_data"
    }
   ],
   "source": [
    "release = df['release_year'].value_counts()\n",
    "release = release.sort_index(ascending=True)\n",
    "\n",
    "plt.figure(figsize=(9,7))\n",
    "plt.plot(release[-11:-1])\n",
    "plt.scatter(release[-11:-1].index, release[-11:-1].values, s=0.5*release[-11:-1].values, c='Red');\n",
    "plt.box(on=None);\n",
    "plt.xticks(rotation = 60)\n",
    "plt.xticks(release[-11:-1].index);\n",
    "plt.title('Number of Content Released by Year', color='red', fontsize=20);"
   ]
  },
  {
   "cell_type": "markdown",
   "metadata": {},
   "source": [
    "### --> Directors with most number of Movies produced"
   ]
  },
  {
   "cell_type": "code",
   "execution_count": 38,
   "metadata": {
    "execution": {
     "iopub.execute_input": "2021-07-12T18:55:56.485535Z",
     "iopub.status.busy": "2021-07-12T18:55:56.485247Z",
     "iopub.status.idle": "2021-07-12T18:55:56.861614Z",
     "shell.execute_reply": "2021-07-12T18:55:56.860463Z",
     "shell.execute_reply.started": "2021-07-12T18:55:56.485507Z"
    }
   },
   "outputs": [
    {
     "data": {
      "image/png": "[encoded data removed]",
      "text/plain": [
       "<Figure size 720x576 with 1 Axes>"
      ]
     },
     "metadata": {},
     "output_type": "display_data"
    }
   ],
   "source": [
    "plt.figure(figsize=(10,8))\n",
    "sb.barplot(y= movie_df.director.value_counts()[:10].sort_values().index, x=movie_df.director.value_counts()[:10].sort_values().values);\n",
    "plt.title('Director with most number of movies', color='red', fontsize=18)\n",
    "plt.xticks(movie_df.director.value_counts()[:10].sort_values().values);\n",
    "plt.xlabel('Number of Movies Released');\n"
   ]
  },
  {
   "cell_type": "markdown",
   "metadata": {},
   "source": [
    "- Director **Raul Campos,Jan Suter** Produced **highest number of movies: 18** on Netflix till now."
   ]
  },
  {
   "cell_type": "code",
   "execution_count": 39,
   "metadata": {
    "execution": {
     "iopub.execute_input": "2021-07-12T18:55:56.863786Z",
     "iopub.status.busy": "2021-07-12T18:55:56.863360Z",
     "iopub.status.idle": "2021-07-12T18:55:57.217469Z",
     "shell.execute_reply": "2021-07-12T18:55:57.216348Z",
     "shell.execute_reply.started": "2021-07-12T18:55:56.863735Z"
    }
   },
   "outputs": [
    {
     "data": {
      "image/png": "[encoded data removed]",
      "text/plain": [
       "<Figure size 720x576 with 1 Axes>"
      ]
     },
     "metadata": {},
     "output_type": "display_data"
    }
   ],
   "source": [
    "plt.figure(figsize=(10,8))\n",
    "sb.barplot(y= tv_df.director.value_counts()[:10].sort_values().index, x=tv_df.director.value_counts()[:10].sort_values().values);\n",
    "plt.title('Director with most number of TV Shows', color='green', fontsize=18)\n",
    "plt.xticks(tv_df.director.value_counts()[:10].sort_values().values);\n",
    "plt.xlabel('Number of Series Released');"
   ]
  },
  {
   "cell_type": "markdown",
   "metadata": {},
   "source": [
    "- Director **Alastair Fothergill** released **highest number of TV shows:3** on Netflix."
   ]
  },
  {
   "cell_type": "markdown",
   "metadata": {},
   "source": [
    "### --> Most Popular Genre on Netflix"
   ]
  },
  {
   "cell_type": "code",
   "execution_count": 40,
   "metadata": {
    "execution": {
     "iopub.execute_input": "2021-07-12T18:55:57.219497Z",
     "iopub.status.busy": "2021-07-12T18:55:57.219109Z",
     "iopub.status.idle": "2021-07-12T18:55:57.588872Z",
     "shell.execute_reply": "2021-07-12T18:55:57.587797Z",
     "shell.execute_reply.started": "2021-07-12T18:55:57.219461Z"
    }
   },
   "outputs": [
    {
     "data": {
      "image/png": "[encoded data removed]",
      "text/plain": [
       "<Figure size 1296x720 with 1 Axes>"
      ]
     },
     "metadata": {},
     "output_type": "display_data"
    }
   ],
   "source": [
    "plt.figure(figsize=(18,10))\n",
    "sb.barplot(x= df.Genre.value_counts()[:10].sort_values().index, y=df.Genre.value_counts()[:10].sort_values().values,palette='GnBu');\n",
    "plt.title('Most Popular Genre', color='Blue', fontsize=20)\n",
    "plt.yticks(df.Genre.value_counts()[:10].sort_values().values);\n",
    "plt.xlabel('GENRES');\n",
    "plt.ylabel('Number of contents');"
   ]
  },
  {
   "cell_type": "markdown",
   "metadata": {},
   "source": [
    "- **Netflix knows how much we all love drama..!! :p**"
   ]
  },
  {
   "cell_type": "markdown",
   "metadata": {},
   "source": [
    "### --> Top Actor/Actresses on Netflix"
   ]
  },
  {
   "cell_type": "code",
   "execution_count": 41,
   "metadata": {
    "execution": {
     "iopub.execute_input": "2021-07-12T18:55:57.590831Z",
     "iopub.status.busy": "2021-07-12T18:55:57.590420Z",
     "iopub.status.idle": "2021-07-12T18:55:58.132556Z",
     "shell.execute_reply": "2021-07-12T18:55:58.131256Z",
     "shell.execute_reply.started": "2021-07-12T18:55:57.590788Z"
    }
   },
   "outputs": [
    {
     "data": {
      "image/png": "[encoded data removed]",
      "text/plain": [
       "<Figure size 1296x1008 with 1 Axes>"
      ]
     },
     "metadata": {},
     "output_type": "display_data"
    }
   ],
   "source": [
    "plt.figure(figsize=(18,14))\n",
    "sb.barplot(y= df.cast.value_counts()[:15].sort_values().index, x=df.cast.value_counts()[:15].sort_values().values,palette='gnuplot_r');\n",
    "plt.title('Top Actor/Actresses on Netflix', color='purple', fontsize=30)\n",
    "plt.xticks(df.cast.value_counts()[:10].sort_values().values);\n",
    "plt.ylabel('Actor/Actresses', fontsize=25);\n",
    "plt.xlabel('Content counts', fontsize=25);"
   ]
  },
  {
   "cell_type": "markdown",
   "metadata": {},
   "source": [
    "- Actor **'Samuel West'** has highest number of movies/Tv shows on Netflix."
   ]
  },
  {
   "cell_type": "markdown",
   "metadata": {},
   "source": [
    "### --> Best Month for directors to release content"
   ]
  },
  {
   "cell_type": "markdown",
   "metadata": {},
   "source": [
    "#### We can analyse the months in which least amount of contents are added, that months can be best for directors to release their content for better audience attention."
   ]
  },
  {
   "cell_type": "code",
   "execution_count": 42,
   "metadata": {
    "execution": {
     "iopub.execute_input": "2021-07-12T18:55:58.134394Z",
     "iopub.status.busy": "2021-07-12T18:55:58.133972Z",
     "iopub.status.idle": "2021-07-12T18:55:58.162176Z",
     "shell.execute_reply": "2021-07-12T18:55:58.161158Z",
     "shell.execute_reply.started": "2021-07-12T18:55:58.134348Z"
    }
   },
   "outputs": [],
   "source": [
    "df_copy = df.copy()\n",
    "net_date = df_copy[['date_added']]\n",
    "net_date['year'] = net_date['date_added'].apply(lambda x : x.split(', ')[-1])\n",
    "net_date['month'] = net_date['date_added'].apply(lambda x : x.lstrip().split(' ')[0])\n",
    "\n",
    "month_order = ['January', 'February', 'March', 'April', 'May', 'June', 'July', 'August', 'September', 'October', 'November', 'December'][::-1]\n",
    "df_copy = net_date.groupby('year')['month'].value_counts().unstack().fillna(0)[month_order].T\n"
   ]
  },
  {
   "cell_type": "code",
   "execution_count": 43,
   "metadata": {
    "execution": {
     "iopub.execute_input": "2021-07-12T18:55:58.163900Z",
     "iopub.status.busy": "2021-07-12T18:55:58.163535Z",
     "iopub.status.idle": "2021-07-12T18:55:58.795989Z",
     "shell.execute_reply": "2021-07-12T18:55:58.794715Z",
     "shell.execute_reply.started": "2021-07-12T18:55:58.163831Z"
    }
   },
   "outputs": [
    {
     "data": {
      "image/png": "[encoded data removed]",
      "text/plain": [
       "<Figure size 2000x1400 with 2 Axes>"
      ]
     },
     "metadata": {},
     "output_type": "display_data"
    }
   ],
   "source": [
    "plt.figure(figsize=(10, 7), dpi=200)\n",
    "plt.pcolor(df_copy, cmap='BrBG', edgecolors='white', linewidths=2) # heatmap\n",
    "plt.xticks(np.arange(0.5, len(df_copy.columns), 1), df_copy.columns, fontsize=7, fontfamily='serif')\n",
    "plt.yticks(np.arange(0.5, len(df_copy.index), 1), df_copy.index, fontsize=7, fontfamily='serif')\n",
    "\n",
    "plt.title('Netflix Contents Update', fontsize=12, fontfamily='calibri', fontweight='bold')\n",
    "cbar = plt.colorbar()\n",
    "cbar.solids.set_edgecolor(\"face\")\n",
    "\n",
    "cbar.ax.tick_params(labelsize=8) \n",
    "cbar.ax.minorticks_on()\n",
    "plt.show()"
   ]
  },
  {
   "cell_type": "markdown",
   "metadata": {},
   "source": [
    "## 4. Netflix Recommendation System"
   ]
  },
  {
   "cell_type": "markdown",
   "metadata": {},
   "source": [
    "## Content Based Filtering"
   ]
  },
  {
   "cell_type": "markdown",
   "metadata": {},
   "source": [
    "- For this recommender system the content of the movie (cast, description, director,genre etc) is used to find its similarity with other movies. Then the movies that are most likely to be similar are recommended."
   ]
  },
  {
   "cell_type": "markdown",
   "metadata": {},
   "source": [
    "![](https://miro.medium.com/max/998/1*O_GU8xLVlFx8WweIzKNCNw.png)"
   ]
  },
  {
   "cell_type": "markdown",
   "metadata": {},
   "source": [
    "## Plot description based Recommender"
   ]
  },
  {
   "cell_type": "markdown",
   "metadata": {},
   "source": [
    "- We will calculate similarity scores for all movies based on their plot descriptions and recommend movies based on that similarity score. The plot description is given in the **description** feature of our dataset."
   ]
  },
  {
   "cell_type": "code",
   "execution_count": 44,
   "metadata": {
    "execution": {
     "iopub.execute_input": "2021-07-12T18:55:58.797998Z",
     "iopub.status.busy": "2021-07-12T18:55:58.797563Z",
     "iopub.status.idle": "2021-07-12T18:55:58.804989Z",
     "shell.execute_reply": "2021-07-12T18:55:58.804102Z",
     "shell.execute_reply.started": "2021-07-12T18:55:58.797953Z"
    }
   },
   "outputs": [
    {
     "data": {
      "text/plain": [
       "1    After a devastating earthquake hits Mexico Cit...\n",
       "2    When an army recruit is found dead, his fellow...\n",
       "3    In a postapocalyptic world, rag-doll robots hi...\n",
       "4    A brilliant group of students become card-coun...\n",
       "5    A genetics professor experiments with a treatm...\n",
       "Name: description, dtype: object"
      ]
     },
     "execution_count": 44,
     "metadata": {},
     "output_type": "execute_result"
    }
   ],
   "source": [
    "df['description'].head()"
   ]
  },
  {
   "cell_type": "markdown",
   "metadata": {},
   "source": [
    "We need to convert the word vector of each overview.We'll compute Term Frequency-Inverse Document Frequency (TF-IDF) vectors for each description.The overall importance of each word to the documents in which they appear is equal to TF * IDF.This is done to reduce the importance of words that occur frequently in plot overviews and therefore, their significance in computing the final similarity score."
   ]
  },
  {
   "cell_type": "code",
   "execution_count": 45,
   "metadata": {
    "execution": {
     "iopub.execute_input": "2021-07-12T18:55:58.806524Z",
     "iopub.status.busy": "2021-07-12T18:55:58.806102Z",
     "iopub.status.idle": "2021-07-12T18:55:59.124957Z",
     "shell.execute_reply": "2021-07-12T18:55:59.123823Z",
     "shell.execute_reply.started": "2021-07-12T18:55:58.806492Z"
    }
   },
   "outputs": [],
   "source": [
    "from sklearn.feature_extraction.text import TfidfVectorizer\n",
    "\n",
    "#Define a TF-IDF Vectorizer Object. Remove all english stop words such as 'the', 'a'\n",
    "tfidf = TfidfVectorizer(stop_words='english')"
   ]
  },
  {
   "cell_type": "code",
   "execution_count": 46,
   "metadata": {
    "execution": {
     "iopub.execute_input": "2021-07-12T18:55:59.126677Z",
     "iopub.status.busy": "2021-07-12T18:55:59.126360Z",
     "iopub.status.idle": "2021-07-12T18:55:59.331097Z",
     "shell.execute_reply": "2021-07-12T18:55:59.330139Z",
     "shell.execute_reply.started": "2021-07-12T18:55:59.126641Z"
    }
   },
   "outputs": [
    {
     "data": {
      "text/plain": [
       "(4979, 13910)"
      ]
     },
     "execution_count": 46,
     "metadata": {},
     "output_type": "execute_result"
    }
   ],
   "source": [
    "#Replace NaN with an empty string\n",
    "df['description'] = df['description'].fillna('')\n",
    "\n",
    "#Construct the required TF-IDF matrix by fitting and transforming the data\n",
    "tfidf_matrix = tfidf.fit_transform(df['description'])\n",
    "\n",
    "#Output the shape of tfidf_matrix\n",
    "tfidf_matrix.shape"
   ]
  },
  {
   "cell_type": "markdown",
   "metadata": {},
   "source": [
    "Since we have used the TF-IDF vectorizer, calculating the dot product will directly give us the cosine similarity score. Therefore, we will use sklearn's **linear_kernel()** instead of cosine_similarities() since it is faster."
   ]
  },
  {
   "cell_type": "code",
   "execution_count": 47,
   "metadata": {
    "execution": {
     "iopub.execute_input": "2021-07-12T18:55:59.332673Z",
     "iopub.status.busy": "2021-07-12T18:55:59.332383Z",
     "iopub.status.idle": "2021-07-12T18:55:59.706887Z",
     "shell.execute_reply": "2021-07-12T18:55:59.705720Z",
     "shell.execute_reply.started": "2021-07-12T18:55:59.332643Z"
    }
   },
   "outputs": [],
   "source": [
    "# Import linear_kernel\n",
    "from sklearn.metrics.pairwise import linear_kernel\n",
    "\n",
    "# Compute the cosine similarity matrix\n",
    "cosine_sim = linear_kernel(tfidf_matrix, tfidf_matrix)"
   ]
  },
  {
   "cell_type": "markdown",
   "metadata": {},
   "source": [
    "-- we need a mechanism to identify the index of a movie in our metadata DataFrame, given its title."
   ]
  },
  {
   "cell_type": "code",
   "execution_count": 48,
   "metadata": {
    "execution": {
     "iopub.execute_input": "2021-07-12T18:55:59.708585Z",
     "iopub.status.busy": "2021-07-12T18:55:59.708288Z",
     "iopub.status.idle": "2021-07-12T18:55:59.715150Z",
     "shell.execute_reply": "2021-07-12T18:55:59.713785Z",
     "shell.execute_reply.started": "2021-07-12T18:55:59.708556Z"
    }
   },
   "outputs": [],
   "source": [
    "#Construct a reverse map of indices and movie titles\n",
    "indices = pd.Series(df.index, index=df['title']).drop_duplicates()"
   ]
  },
  {
   "cell_type": "markdown",
   "metadata": {},
   "source": [
    "-- Let's define a function that takes in a movie title as an input and outputs a list of the 10 most similar movies."
   ]
  },
  {
   "cell_type": "code",
   "execution_count": 49,
   "metadata": {
    "execution": {
     "iopub.execute_input": "2021-07-12T18:55:59.717077Z",
     "iopub.status.busy": "2021-07-12T18:55:59.716672Z",
     "iopub.status.idle": "2021-07-12T18:55:59.731237Z",
     "shell.execute_reply": "2021-07-12T18:55:59.729943Z",
     "shell.execute_reply.started": "2021-07-12T18:55:59.717043Z"
    }
   },
   "outputs": [],
   "source": [
    "def get_recommendations(title, cosine_sim=cosine_sim):\n",
    "    idx = indices[title]\n",
    "\n",
    "    # Get the pairwsie similarity scores of all movies with that movie\n",
    "    sim_scores = list(enumerate(cosine_sim[idx]))\n",
    "\n",
    "    # Sort the movies based on the similarity scores\n",
    "    sim_scores = sorted(sim_scores, key=lambda x: x[1], reverse=True)\n",
    "\n",
    "    # Get the scores of the 10 most similar movies\n",
    "    sim_scores = sim_scores[1:11]\n",
    "\n",
    "    # Get the movie indices\n",
    "    movie_indices = [i[0] for i in sim_scores]\n",
    "\n",
    "    # Return the top 10 most similar movies\n",
    "    return df['title'].iloc[movie_indices]"
   ]
  },
  {
   "cell_type": "code",
   "execution_count": 50,
   "metadata": {
    "execution": {
     "iopub.execute_input": "2021-07-12T18:55:59.733109Z",
     "iopub.status.busy": "2021-07-12T18:55:59.732558Z",
     "iopub.status.idle": "2021-07-12T18:55:59.753382Z",
     "shell.execute_reply": "2021-07-12T18:55:59.752290Z",
     "shell.execute_reply.started": "2021-07-12T18:55:59.733058Z"
    }
   },
   "outputs": [
    {
     "data": {
      "text/plain": [
       "4427    Natural Selection\n",
       "4137           Miss India\n",
       "6156      The Book of Sun\n",
       "4989           Prom Night\n",
       "6341     The F**k-It List\n",
       "765                Battle\n",
       "1145              Burning\n",
       "7326             Uncorked\n",
       "7662              Work It\n",
       "5242            Rock On!!\n",
       "Name: title, dtype: object"
      ]
     },
     "execution_count": 50,
     "metadata": {},
     "output_type": "execute_result"
    }
   ],
   "source": [
    "get_recommendations('#realityhigh')"
   ]
  },
  {
   "cell_type": "code",
   "execution_count": 51,
   "metadata": {
    "execution": {
     "iopub.execute_input": "2021-07-12T18:55:59.755204Z",
     "iopub.status.busy": "2021-07-12T18:55:59.754827Z",
     "iopub.status.idle": "2021-07-12T18:55:59.770257Z",
     "shell.execute_reply": "2021-07-12T18:55:59.769119Z",
     "shell.execute_reply.started": "2021-07-12T18:55:59.755160Z"
    }
   },
   "outputs": [
    {
     "data": {
      "text/plain": [
       "133                                7 años\n",
       "4803                               Payday\n",
       "3478                    Kyaa Kool Hai Hum\n",
       "1243                    Catching Feelings\n",
       "3940    Mariah Carey's Merriest Christmas\n",
       "2154                                Fifty\n",
       "3703                                 Loev\n",
       "1269                              Chameli\n",
       "3576         LEGENDS OF THE HIDDEN TEMPLE\n",
       "7754                                 Yuva\n",
       "Name: title, dtype: object"
      ]
     },
     "execution_count": 51,
     "metadata": {},
     "output_type": "execute_result"
    }
   ],
   "source": [
    "get_recommendations('PK')"
   ]
  },
  {
   "cell_type": "markdown",
   "metadata": {},
   "source": [
    "- This is completely plot based recommendations. we can see these are not so accurate, so we can try to add more metrics to improve model performance."
   ]
  },
  {
   "cell_type": "markdown",
   "metadata": {},
   "source": [
    "## Multiple metrics(Genre,cast,director)  based Recommender System"
   ]
  },
  {
   "cell_type": "markdown",
   "metadata": {},
   "source": [
    "From the Genre,cast and director features, we need to extract the three most important actors, the director and genres associated with that movie."
   ]
  },
  {
   "cell_type": "code",
   "execution_count": 52,
   "metadata": {
    "execution": {
     "iopub.execute_input": "2021-07-12T18:55:59.771920Z",
     "iopub.status.busy": "2021-07-12T18:55:59.771573Z",
     "iopub.status.idle": "2021-07-12T18:55:59.782342Z",
     "shell.execute_reply": "2021-07-12T18:55:59.781149Z",
     "shell.execute_reply.started": "2021-07-12T18:55:59.771877Z"
    }
   },
   "outputs": [],
   "source": [
    "features=['Genre','director','cast','description','title']\n",
    "filters = df[features]"
   ]
  },
  {
   "cell_type": "code",
   "execution_count": 53,
   "metadata": {
    "execution": {
     "iopub.execute_input": "2021-07-12T18:55:59.784560Z",
     "iopub.status.busy": "2021-07-12T18:55:59.783894Z",
     "iopub.status.idle": "2021-07-12T18:55:59.795709Z",
     "shell.execute_reply": "2021-07-12T18:55:59.794610Z",
     "shell.execute_reply.started": "2021-07-12T18:55:59.784524Z"
    }
   },
   "outputs": [],
   "source": [
    "#Cleaning the data by making all the words in lower case.\n",
    "def clean_data(x):\n",
    "        return str.lower(x.replace(\" \", \"\"))"
   ]
  },
  {
   "cell_type": "code",
   "execution_count": 54,
   "metadata": {
    "execution": {
     "iopub.execute_input": "2021-07-12T18:55:59.797579Z",
     "iopub.status.busy": "2021-07-12T18:55:59.797267Z",
     "iopub.status.idle": "2021-07-12T18:55:59.858010Z",
     "shell.execute_reply": "2021-07-12T18:55:59.856913Z",
     "shell.execute_reply.started": "2021-07-12T18:55:59.797552Z"
    }
   },
   "outputs": [
    {
     "data": {
      "text/html": [
       "<div>\n",
       "<style scoped>\n",
       "    .dataframe tbody tr th:only-of-type {\n",
       "        vertical-align: middle;\n",
       "    }\n",
       "\n",
       "    .dataframe tbody tr th {\n",
       "        vertical-align: top;\n",
       "    }\n",
       "\n",
       "    .dataframe thead th {\n",
       "        text-align: right;\n",
       "    }\n",
       "</style>\n",
       "<table border=\"1\" class=\"dataframe\">\n",
       "  <thead>\n",
       "    <tr style=\"text-align: right;\">\n",
       "      <th></th>\n",
       "      <th>Genre</th>\n",
       "      <th>director</th>\n",
       "      <th>cast</th>\n",
       "      <th>description</th>\n",
       "      <th>title</th>\n",
       "    </tr>\n",
       "  </thead>\n",
       "  <tbody>\n",
       "    <tr>\n",
       "      <th>1</th>\n",
       "      <td>dramas</td>\n",
       "      <td>jorgemichelgrau</td>\n",
       "      <td>demiánbichir,héctorbonilla,oscarserrano,azalia...</td>\n",
       "      <td>afteradevastatingearthquakehitsmexicocity,trap...</td>\n",
       "      <td>7:19</td>\n",
       "    </tr>\n",
       "    <tr>\n",
       "      <th>2</th>\n",
       "      <td>horrormovies</td>\n",
       "      <td>gilbertchan</td>\n",
       "      <td>teddchan,stellachung,henleyhii,lawrencekoh,tom...</td>\n",
       "      <td>whenanarmyrecruitisfounddead,hisfellowsoldiers...</td>\n",
       "      <td>23:59</td>\n",
       "    </tr>\n",
       "    <tr>\n",
       "      <th>3</th>\n",
       "      <td>action&amp;adventure</td>\n",
       "      <td>shaneacker</td>\n",
       "      <td>elijahwood,johnc.reilly,jenniferconnelly,chris...</td>\n",
       "      <td>inapostapocalypticworld,rag-dollrobotshideinfe...</td>\n",
       "      <td>9</td>\n",
       "    </tr>\n",
       "    <tr>\n",
       "      <th>4</th>\n",
       "      <td>dramas</td>\n",
       "      <td>robertluketic</td>\n",
       "      <td>jimsturgess,kevinspacey,katebosworth,aaronyoo,...</td>\n",
       "      <td>abrilliantgroupofstudentsbecomecard-countingex...</td>\n",
       "      <td>21</td>\n",
       "    </tr>\n",
       "    <tr>\n",
       "      <th>5</th>\n",
       "      <td>internationaltvshows</td>\n",
       "      <td>serdarakar</td>\n",
       "      <td>erdalbeşikçioğlu,yaseminallen,melisbirkan,sayg...</td>\n",
       "      <td>ageneticsprofessorexperimentswithatreatmentfor...</td>\n",
       "      <td>46</td>\n",
       "    </tr>\n",
       "  </tbody>\n",
       "</table>\n",
       "</div>"
      ],
      "text/plain": [
       "                  Genre         director  \\\n",
       "1                dramas  jorgemichelgrau   \n",
       "2          horrormovies      gilbertchan   \n",
       "3      action&adventure       shaneacker   \n",
       "4                dramas    robertluketic   \n",
       "5  internationaltvshows       serdarakar   \n",
       "\n",
       "                                                cast  \\\n",
       "1  demiánbichir,héctorbonilla,oscarserrano,azalia...   \n",
       "2  teddchan,stellachung,henleyhii,lawrencekoh,tom...   \n",
       "3  elijahwood,johnc.reilly,jenniferconnelly,chris...   \n",
       "4  jimsturgess,kevinspacey,katebosworth,aaronyoo,...   \n",
       "5  erdalbeşikçioğlu,yaseminallen,melisbirkan,sayg...   \n",
       "\n",
       "                                         description  title  \n",
       "1  afteradevastatingearthquakehitsmexicocity,trap...   7:19  \n",
       "2  whenanarmyrecruitisfounddead,hisfellowsoldiers...  23:59  \n",
       "3  inapostapocalypticworld,rag-dollrobotshideinfe...      9  \n",
       "4  abrilliantgroupofstudentsbecomecard-countingex...     21  \n",
       "5  ageneticsprofessorexperimentswithatreatmentfor...     46  "
      ]
     },
     "execution_count": 54,
     "metadata": {},
     "output_type": "execute_result"
    }
   ],
   "source": [
    "for feature in features:\n",
    "    filters[feature] = filters[feature].apply(clean_data)\n",
    "    \n",
    "filters.head()"
   ]
  },
  {
   "cell_type": "markdown",
   "metadata": {},
   "source": [
    "- We can now create our \"metadata soup\", which is a string that contains all the metadata that we want to feed to our vectorizer."
   ]
  },
  {
   "cell_type": "code",
   "execution_count": 55,
   "metadata": {
    "execution": {
     "iopub.execute_input": "2021-07-12T18:55:59.859603Z",
     "iopub.status.busy": "2021-07-12T18:55:59.859311Z",
     "iopub.status.idle": "2021-07-12T18:55:59.864080Z",
     "shell.execute_reply": "2021-07-12T18:55:59.862978Z",
     "shell.execute_reply.started": "2021-07-12T18:55:59.859575Z"
    }
   },
   "outputs": [],
   "source": [
    "def create_soup(x):\n",
    "    return x['director'] + ' ' + x['cast'] + ' ' +x['Genre']+' '+ x['description']"
   ]
  },
  {
   "cell_type": "code",
   "execution_count": 56,
   "metadata": {
    "execution": {
     "iopub.execute_input": "2021-07-12T18:55:59.866079Z",
     "iopub.status.busy": "2021-07-12T18:55:59.865678Z",
     "iopub.status.idle": "2021-07-12T18:56:00.030708Z",
     "shell.execute_reply": "2021-07-12T18:56:00.029464Z",
     "shell.execute_reply.started": "2021-07-12T18:55:59.866045Z"
    }
   },
   "outputs": [],
   "source": [
    "filters['soup'] = filters.apply(create_soup, axis=1)"
   ]
  },
  {
   "cell_type": "markdown",
   "metadata": {},
   "source": [
    "The next steps are the same as what we did with our plot description based recommender. One important difference is that we use the **CountVectorizer()** instead of TF-IDF."
   ]
  },
  {
   "cell_type": "code",
   "execution_count": 57,
   "metadata": {
    "execution": {
     "iopub.execute_input": "2021-07-12T18:56:00.032410Z",
     "iopub.status.busy": "2021-07-12T18:56:00.032113Z",
     "iopub.status.idle": "2021-07-12T18:56:00.318500Z",
     "shell.execute_reply": "2021-07-12T18:56:00.317270Z",
     "shell.execute_reply.started": "2021-07-12T18:56:00.032381Z"
    }
   },
   "outputs": [],
   "source": [
    "# Import CountVectorizer and create the count matrix\n",
    "from sklearn.feature_extraction.text import CountVectorizer\n",
    "\n",
    "count = CountVectorizer(stop_words='english')\n",
    "count_matrix = count.fit_transform(filters['soup'])"
   ]
  },
  {
   "cell_type": "code",
   "execution_count": 58,
   "metadata": {
    "execution": {
     "iopub.execute_input": "2021-07-12T18:56:00.320274Z",
     "iopub.status.busy": "2021-07-12T18:56:00.319980Z",
     "iopub.status.idle": "2021-07-12T18:56:00.665489Z",
     "shell.execute_reply": "2021-07-12T18:56:00.664531Z",
     "shell.execute_reply.started": "2021-07-12T18:56:00.320246Z"
    }
   },
   "outputs": [],
   "source": [
    "# Compute the Cosine Similarity matrix based on the count_matrix\n",
    "from sklearn.metrics.pairwise import cosine_similarity\n",
    "\n",
    "cosine_sim2 = cosine_similarity(count_matrix, count_matrix)"
   ]
  },
  {
   "cell_type": "code",
   "execution_count": 59,
   "metadata": {
    "execution": {
     "iopub.execute_input": "2021-07-12T18:56:00.667199Z",
     "iopub.status.busy": "2021-07-12T18:56:00.666910Z",
     "iopub.status.idle": "2021-07-12T18:56:00.686428Z",
     "shell.execute_reply": "2021-07-12T18:56:00.685168Z",
     "shell.execute_reply.started": "2021-07-12T18:56:00.667171Z"
    }
   },
   "outputs": [
    {
     "data": {
      "text/html": [
       "<div>\n",
       "<style scoped>\n",
       "    .dataframe tbody tr th:only-of-type {\n",
       "        vertical-align: middle;\n",
       "    }\n",
       "\n",
       "    .dataframe tbody tr th {\n",
       "        vertical-align: top;\n",
       "    }\n",
       "\n",
       "    .dataframe thead th {\n",
       "        text-align: right;\n",
       "    }\n",
       "</style>\n",
       "<table border=\"1\" class=\"dataframe\">\n",
       "  <thead>\n",
       "    <tr style=\"text-align: right;\">\n",
       "      <th></th>\n",
       "      <th>Genre</th>\n",
       "      <th>director</th>\n",
       "      <th>cast</th>\n",
       "      <th>description</th>\n",
       "      <th>title</th>\n",
       "      <th>soup</th>\n",
       "    </tr>\n",
       "  </thead>\n",
       "  <tbody>\n",
       "    <tr>\n",
       "      <th>1</th>\n",
       "      <td>dramas</td>\n",
       "      <td>jorgemichelgrau</td>\n",
       "      <td>demiánbichir,héctorbonilla,oscarserrano,azalia...</td>\n",
       "      <td>afteradevastatingearthquakehitsmexicocity,trap...</td>\n",
       "      <td>7:19</td>\n",
       "      <td>jorgemichelgrau demiánbichir,héctorbonilla,osc...</td>\n",
       "    </tr>\n",
       "    <tr>\n",
       "      <th>2</th>\n",
       "      <td>horrormovies</td>\n",
       "      <td>gilbertchan</td>\n",
       "      <td>teddchan,stellachung,henleyhii,lawrencekoh,tom...</td>\n",
       "      <td>whenanarmyrecruitisfounddead,hisfellowsoldiers...</td>\n",
       "      <td>23:59</td>\n",
       "      <td>gilbertchan teddchan,stellachung,henleyhii,law...</td>\n",
       "    </tr>\n",
       "    <tr>\n",
       "      <th>3</th>\n",
       "      <td>action&amp;adventure</td>\n",
       "      <td>shaneacker</td>\n",
       "      <td>elijahwood,johnc.reilly,jenniferconnelly,chris...</td>\n",
       "      <td>inapostapocalypticworld,rag-dollrobotshideinfe...</td>\n",
       "      <td>9</td>\n",
       "      <td>shaneacker elijahwood,johnc.reilly,jennifercon...</td>\n",
       "    </tr>\n",
       "    <tr>\n",
       "      <th>4</th>\n",
       "      <td>dramas</td>\n",
       "      <td>robertluketic</td>\n",
       "      <td>jimsturgess,kevinspacey,katebosworth,aaronyoo,...</td>\n",
       "      <td>abrilliantgroupofstudentsbecomecard-countingex...</td>\n",
       "      <td>21</td>\n",
       "      <td>robertluketic jimsturgess,kevinspacey,katebosw...</td>\n",
       "    </tr>\n",
       "    <tr>\n",
       "      <th>5</th>\n",
       "      <td>internationaltvshows</td>\n",
       "      <td>serdarakar</td>\n",
       "      <td>erdalbeşikçioğlu,yaseminallen,melisbirkan,sayg...</td>\n",
       "      <td>ageneticsprofessorexperimentswithatreatmentfor...</td>\n",
       "      <td>46</td>\n",
       "      <td>serdarakar erdalbeşikçioğlu,yaseminallen,melis...</td>\n",
       "    </tr>\n",
       "    <tr>\n",
       "      <th>6</th>\n",
       "      <td>horrormovies</td>\n",
       "      <td>yasiralyasiri</td>\n",
       "      <td>aminakhalil,ahmeddawood,tareklotfy,ahmedelfish...</td>\n",
       "      <td>afteranawfulaccident,acoupleadmittedtoagrislyh...</td>\n",
       "      <td>122</td>\n",
       "      <td>yasiralyasiri aminakhalil,ahmeddawood,tareklot...</td>\n",
       "    </tr>\n",
       "    <tr>\n",
       "      <th>7</th>\n",
       "      <td>dramas</td>\n",
       "      <td>kevinreynolds</td>\n",
       "      <td>samuell.jackson,johnheard,kellyrowan,cliftonco...</td>\n",
       "      <td>afteroneofhishighschoolstudentsattackshim,dedi...</td>\n",
       "      <td>187</td>\n",
       "      <td>kevinreynolds samuell.jackson,johnheard,kellyr...</td>\n",
       "    </tr>\n",
       "    <tr>\n",
       "      <th>8</th>\n",
       "      <td>horrormovies</td>\n",
       "      <td>shravankumar</td>\n",
       "      <td>divyadutta,atulkulkarni,mohanagashe,anupamshya...</td>\n",
       "      <td>whenadoctorgoesmissing,hispsychiatristwifetrea...</td>\n",
       "      <td>706</td>\n",
       "      <td>shravankumar divyadutta,atulkulkarni,mohanagas...</td>\n",
       "    </tr>\n",
       "    <tr>\n",
       "      <th>9</th>\n",
       "      <td>horrormovies</td>\n",
       "      <td>vikrambhatt</td>\n",
       "      <td>rajneeshduggal,adahsharma,indraneilsengupta,an...</td>\n",
       "      <td>anarchitectandhiswifemoveintoacastlethatisslat...</td>\n",
       "      <td>1920</td>\n",
       "      <td>vikrambhatt rajneeshduggal,adahsharma,indranei...</td>\n",
       "    </tr>\n",
       "    <tr>\n",
       "      <th>10</th>\n",
       "      <td>dramas</td>\n",
       "      <td>zakhilditch</td>\n",
       "      <td>thomasjane,mollyparker,dylanschmid,kaitlynbern...</td>\n",
       "      <td>afarmerpensaconfessionadmittingtohiswife'smurd...</td>\n",
       "      <td>1922</td>\n",
       "      <td>zakhilditch thomasjane,mollyparker,dylanschmid...</td>\n",
       "    </tr>\n",
       "    <tr>\n",
       "      <th>13</th>\n",
       "      <td>documentaries</td>\n",
       "      <td>nottaponboonprakob</td>\n",
       "      <td>artiwarakongmalai</td>\n",
       "      <td>thisintimatedocumentaryfollowsrockstarartiwara...</td>\n",
       "      <td>2,215</td>\n",
       "      <td>nottaponboonprakob artiwarakongmalai documenta...</td>\n",
       "    </tr>\n",
       "    <tr>\n",
       "      <th>14</th>\n",
       "      <td>independentmovies</td>\n",
       "      <td>johnsuits</td>\n",
       "      <td>omarepps,katewalsh,mirandacosgrove,angusmacfad...</td>\n",
       "      <td>strandedwhentheearthissuddenlydestroyedinamyst...</td>\n",
       "      <td>3022</td>\n",
       "      <td>johnsuits omarepps,katewalsh,mirandacosgrove,a...</td>\n",
       "    </tr>\n",
       "    <tr>\n",
       "      <th>15</th>\n",
       "      <td>dramas</td>\n",
       "      <td>kunleafolayan</td>\n",
       "      <td>sadiqdaba,davidbailie,kayodeolaiya,kehindebank...</td>\n",
       "      <td>againstthebackdropofnigeria'sloomingindependen...</td>\n",
       "      <td>oct-01</td>\n",
       "      <td>kunleafolayan sadiqdaba,davidbailie,kayodeolai...</td>\n",
       "    </tr>\n",
       "    <tr>\n",
       "      <th>17</th>\n",
       "      <td>dramas</td>\n",
       "      <td>paulgreengrass</td>\n",
       "      <td>andersdanielsenlie,jonøigarden,jonasstrandgrav...</td>\n",
       "      <td>afterdevastatingterrorattacksinnorway,ayoungsu...</td>\n",
       "      <td>22-jul</td>\n",
       "      <td>paulgreengrass andersdanielsenlie,jonøigarden,...</td>\n",
       "    </tr>\n",
       "    <tr>\n",
       "      <th>18</th>\n",
       "      <td>comedies</td>\n",
       "      <td>swapnaneeljayakar</td>\n",
       "      <td>rahulpethe,mrunmayeedeshpande,adinathkothare,v...</td>\n",
       "      <td>onindia'sindependenceday,azanymishapinamumbaic...</td>\n",
       "      <td>15-aug</td>\n",
       "      <td>swapnaneeljayakar rahulpethe,mrunmayeedeshpand...</td>\n",
       "    </tr>\n",
       "    <tr>\n",
       "      <th>20</th>\n",
       "      <td>dramas</td>\n",
       "      <td>onir</td>\n",
       "      <td>geetanjalithapa,zainkhandurrani,shrayraitiwari...</td>\n",
       "      <td>afteraccidentallyconnectingovertheinternet,two...</td>\n",
       "      <td>​​kuchbheegealfaaz</td>\n",
       "      <td>onir geetanjalithapa,zainkhandurrani,shrayrait...</td>\n",
       "    </tr>\n",
       "    <tr>\n",
       "      <th>21</th>\n",
       "      <td>action&amp;adventure</td>\n",
       "      <td>vijaymilton</td>\n",
       "      <td>samuthirakani,bharathseeni,vinoth,esakkibarath...</td>\n",
       "      <td>ataxidriver,agangsterandanathletestruggletobet...</td>\n",
       "      <td>​golisoda2</td>\n",
       "      <td>vijaymilton samuthirakani,bharathseeni,vinoth,...</td>\n",
       "    </tr>\n",
       "    <tr>\n",
       "      <th>22</th>\n",
       "      <td>dramas</td>\n",
       "      <td>santwanabardoloi</td>\n",
       "      <td>adilhussain,shakilimtiaz,mahendrarabha,sulaksh...</td>\n",
       "      <td>asuccessfulwriterreturnstothetownthatlaunchedh...</td>\n",
       "      <td>​majrati​​keteki</td>\n",
       "      <td>santwanabardoloi adilhussain,shakilimtiaz,mahe...</td>\n",
       "    </tr>\n",
       "    <tr>\n",
       "      <th>23</th>\n",
       "      <td>dramas</td>\n",
       "      <td>atanughosh</td>\n",
       "      <td>soumitrachatterjee,prasenjitchatterjee,indrani...</td>\n",
       "      <td>whenamiddle-ageddivorceereturnstokolkatatovisi...</td>\n",
       "      <td>​mayurakshi</td>\n",
       "      <td>atanughosh soumitrachatterjee,prasenjitchatter...</td>\n",
       "    </tr>\n",
       "    <tr>\n",
       "      <th>27</th>\n",
       "      <td>horrormovies</td>\n",
       "      <td>choil</td>\n",
       "      <td>yooah-in,parkshin-hye</td>\n",
       "      <td>asagrislyvirusrampagesacity,alonemanstayslocke...</td>\n",
       "      <td>#alive</td>\n",
       "      <td>choil yooah-in,parkshin-hye horrormovies asagr...</td>\n",
       "    </tr>\n",
       "    <tr>\n",
       "      <th>28</th>\n",
       "      <td>documentaries</td>\n",
       "      <td>sabinafedeli,annamigotto</td>\n",
       "      <td>helenmirren,genghergatti</td>\n",
       "      <td>throughherdiary,annefrank'sstoryisretoldalongs...</td>\n",
       "      <td>#annefrank-parallelstories</td>\n",
       "      <td>sabinafedeli,annamigotto helenmirren,gengherga...</td>\n",
       "    </tr>\n",
       "    <tr>\n",
       "      <th>31</th>\n",
       "      <td>dramas</td>\n",
       "      <td>rakoprijanto</td>\n",
       "      <td>adipatidolken,vaneshaprescilla,rendijhon,bebyt...</td>\n",
       "      <td>piningforhishighschoolcrushforyears,ayoungmanp...</td>\n",
       "      <td>#friendbutmarried</td>\n",
       "      <td>rakoprijanto adipatidolken,vaneshaprescilla,re...</td>\n",
       "    </tr>\n",
       "    <tr>\n",
       "      <th>32</th>\n",
       "      <td>dramas</td>\n",
       "      <td>rakoprijanto</td>\n",
       "      <td>adipatidolken,mawardejongh,sarinila,vonnycorne...</td>\n",
       "      <td>asayuanddittofinallytransitionfrombestfriendst...</td>\n",
       "      <td>#friendbutmarried2</td>\n",
       "      <td>rakoprijanto adipatidolken,mawardejongh,sarini...</td>\n",
       "    </tr>\n",
       "    <tr>\n",
       "      <th>33</th>\n",
       "      <td>comedies</td>\n",
       "      <td>fernandolebrija</td>\n",
       "      <td>nestacooper,katewalsh,johnmichaelhiggins,keith...</td>\n",
       "      <td>whennerdyhighschoolerdanifinallyattractstheint...</td>\n",
       "      <td>#realityhigh</td>\n",
       "      <td>fernandolebrija nestacooper,katewalsh,johnmich...</td>\n",
       "    </tr>\n",
       "    <tr>\n",
       "      <th>34</th>\n",
       "      <td>comedies</td>\n",
       "      <td>michaelkennedy</td>\n",
       "      <td>jakeshort,sarahfisher,booboostewart,dannytrejo...</td>\n",
       "      <td>ateenagehackerwithahugenosehelpsacoolkidwooagi...</td>\n",
       "      <td>#roxy</td>\n",
       "      <td>michaelkennedy jakeshort,sarahfisher,boobooste...</td>\n",
       "    </tr>\n",
       "    <tr>\n",
       "      <th>36</th>\n",
       "      <td>comedies</td>\n",
       "      <td>cristinajacob</td>\n",
       "      <td>flaviahojda,crinasemciuc,olimpiamelinte,levent...</td>\n",
       "      <td>twodaysbeforetheirfinalexams,threeteengirlsmak...</td>\n",
       "      <td>#selfie</td>\n",
       "      <td>cristinajacob flaviahojda,crinasemciuc,olimpia...</td>\n",
       "    </tr>\n",
       "    <tr>\n",
       "      <th>37</th>\n",
       "      <td>comedies</td>\n",
       "      <td>cristinajacob</td>\n",
       "      <td>maiamorgenstern,olimpiamelinte,crinasemciuc,fl...</td>\n",
       "      <td>afterapainfulbreakup,atrioofparty-lovingfriend...</td>\n",
       "      <td>#selfie69</td>\n",
       "      <td>cristinajacob maiamorgenstern,olimpiamelinte,c...</td>\n",
       "    </tr>\n",
       "    <tr>\n",
       "      <th>39</th>\n",
       "      <td>comedies</td>\n",
       "      <td>frankariza</td>\n",
       "      <td>estefaníadelossantos,secundelarosa,terelepávez...</td>\n",
       "      <td>whenherestrangedmothersuddenlydies,awomanmustf...</td>\n",
       "      <td>¡ay,mimadre!</td>\n",
       "      <td>frankariza estefaníadelossantos,secundelarosa,...</td>\n",
       "    </tr>\n",
       "    <tr>\n",
       "      <th>40</th>\n",
       "      <td>comedies</td>\n",
       "      <td>muharremgülmez</td>\n",
       "      <td>erdemyener,ayhantaş,eminolcay,muharremgülmez,e...</td>\n",
       "      <td>theslackerownerofapublicbathhouserallieshiscom...</td>\n",
       "      <td>çarsipazar</td>\n",
       "      <td>muharremgülmez erdemyener,ayhantaş,eminolcay,m...</td>\n",
       "    </tr>\n",
       "    <tr>\n",
       "      <th>41</th>\n",
       "      <td>horrormovies</td>\n",
       "      <td>óskarthóraxelsson</td>\n",
       "      <td>jóhanneshaukurjóhannesson,ágústaevaerlendsdótt...</td>\n",
       "      <td>youngurbanitesrenovatingarundownhouse,andapsyc...</td>\n",
       "      <td>égmanþig</td>\n",
       "      <td>óskarthóraxelsson jóhanneshaukurjóhannesson,ág...</td>\n",
       "    </tr>\n",
       "    <tr>\n",
       "      <th>...</th>\n",
       "      <td>...</td>\n",
       "      <td>...</td>\n",
       "      <td>...</td>\n",
       "      <td>...</td>\n",
       "      <td>...</td>\n",
       "      <td>...</td>\n",
       "    </tr>\n",
       "    <tr>\n",
       "      <th>7739</th>\n",
       "      <td>comedies</td>\n",
       "      <td>funkeakindele</td>\n",
       "      <td>akinlewis,funkeakindele,kemilalaakindoju,shaff...</td>\n",
       "      <td>bumblingthroughpolitics,abillionairebusinessma...</td>\n",
       "      <td>yourexcellency</td>\n",
       "      <td>funkeakindele akinlewis,funkeakindele,kemilala...</td>\n",
       "    </tr>\n",
       "    <tr>\n",
       "      <th>7741</th>\n",
       "      <td>dramas</td>\n",
       "      <td>liukuang-hui</td>\n",
       "      <td>edwardchen,tsengching-hua,leondai,jasonwang,fa...</td>\n",
       "      <td>in1987,asmartiallawendsintaiwan,jia-hanandbird...</td>\n",
       "      <td>yournameengravedherein</td>\n",
       "      <td>liukuang-hui edwardchen,tsengching-hua,leondai...</td>\n",
       "    </tr>\n",
       "    <tr>\n",
       "      <th>7742</th>\n",
       "      <td>dramas</td>\n",
       "      <td>miguelángelvivas</td>\n",
       "      <td>josécoronado,anawagener,asiaortega,polmonen,es...</td>\n",
       "      <td>afterhissonisbrutallybeatenoutsideanightclub,a...</td>\n",
       "      <td>yourson</td>\n",
       "      <td>miguelángelvivas josécoronado,anawagener,asiao...</td>\n",
       "    </tr>\n",
       "    <tr>\n",
       "      <th>7744</th>\n",
       "      <td>stand-upcomedy</td>\n",
       "      <td>nevilleshah</td>\n",
       "      <td>kanangill</td>\n",
       "      <td>revisitinglifegoalssetinaletterwrittenasateent...</td>\n",
       "      <td>yourssincerely,kanangill</td>\n",
       "      <td>nevilleshah kanangill stand-upcomedy revisitin...</td>\n",
       "    </tr>\n",
       "    <tr>\n",
       "      <th>7745</th>\n",
       "      <td>children&amp;familymovies</td>\n",
       "      <td>rajagosnell</td>\n",
       "      <td>dennisquaid,renerusso,seanfaris,katijapevec,de...</td>\n",
       "      <td>whenafatherofeightandamotherof10preparetowed,t...</td>\n",
       "      <td>yours,mineandours</td>\n",
       "      <td>rajagosnell dennisquaid,renerusso,seanfaris,ka...</td>\n",
       "    </tr>\n",
       "    <tr>\n",
       "      <th>7747</th>\n",
       "      <td>dramas</td>\n",
       "      <td>mohameddiab</td>\n",
       "      <td>nellykarim,hanyadel,tarekabdelaziz,ahmedmalek,...</td>\n",
       "      <td>amidthetumultfollowingegyptianpresidentmorsi's...</td>\n",
       "      <td>اشتباك</td>\n",
       "      <td>mohameddiab nellykarim,hanyadel,tarekabdelaziz...</td>\n",
       "    </tr>\n",
       "    <tr>\n",
       "      <th>7748</th>\n",
       "      <td>comedies</td>\n",
       "      <td>ahmednadergalal</td>\n",
       "      <td>ahmedhelmy,lailaezzelarab,mahmoudelfishawy,moh...</td>\n",
       "      <td>onhisweddingday,anarrogant,greedyaccountantexp...</td>\n",
       "      <td>الفمبروك</td>\n",
       "      <td>ahmednadergalal ahmedhelmy,lailaezzelarab,mahm...</td>\n",
       "    </tr>\n",
       "    <tr>\n",
       "      <th>7751</th>\n",
       "      <td>comedies</td>\n",
       "      <td>danielmonzón</td>\n",
       "      <td>luistosar,rodrigodelaserna,joanpera,stephaniec...</td>\n",
       "      <td>competingconartistsattempttocreativelyandruthl...</td>\n",
       "      <td>yucatán</td>\n",
       "      <td>danielmonzón luistosar,rodrigodelaserna,joanpe...</td>\n",
       "    </tr>\n",
       "    <tr>\n",
       "      <th>7754</th>\n",
       "      <td>dramas</td>\n",
       "      <td>maniratnam</td>\n",
       "      <td>ajaydevgn,abhishekbachchan,vivekoberoi,eshadeo...</td>\n",
       "      <td>anaccidentonabridgetiestogetherthreeyoungmenfr...</td>\n",
       "      <td>yuva</td>\n",
       "      <td>maniratnam ajaydevgn,abhishekbachchan,vivekobe...</td>\n",
       "    </tr>\n",
       "    <tr>\n",
       "      <th>7757</th>\n",
       "      <td>stand-upcomedy</td>\n",
       "      <td>michaelblieden</td>\n",
       "      <td>zachgalifianakis,brianunger</td>\n",
       "      <td>theunorthodox,piano-playingstand-upstarzachgal...</td>\n",
       "      <td>zachgalifianakis:liveatthepurpleonion</td>\n",
       "      <td>michaelblieden zachgalifianakis,brianunger sta...</td>\n",
       "    </tr>\n",
       "    <tr>\n",
       "      <th>7758</th>\n",
       "      <td>comedies</td>\n",
       "      <td>kevinsmith</td>\n",
       "      <td>sethrogen,elizabethbanks,craigrobinson,jasonme...</td>\n",
       "      <td>zackandmirimakeandstarinanadultfilmtobringinea...</td>\n",
       "      <td>zackandmirimakeaporno</td>\n",
       "      <td>kevinsmith sethrogen,elizabethbanks,craigrobin...</td>\n",
       "    </tr>\n",
       "    <tr>\n",
       "      <th>7760</th>\n",
       "      <td>comedies</td>\n",
       "      <td>waelihsan</td>\n",
       "      <td>ahmedhelmy,yasminabdulaziz,hassanhosny,hasankami</td>\n",
       "      <td>anunqualifiedyoungmanhashisworkcutoutforhimwhe...</td>\n",
       "      <td>zakichan</td>\n",
       "      <td>waelihsan ahmedhelmy,yasminabdulaziz,hassanhos...</td>\n",
       "    </tr>\n",
       "    <tr>\n",
       "      <th>7761</th>\n",
       "      <td>children&amp;familymovies</td>\n",
       "      <td>peterdeluise</td>\n",
       "      <td>zendaya,chanellepeloso,spencerboldman,emiliamc...</td>\n",
       "      <td>agirldiscoversadog-trainingappthatcangetboysto...</td>\n",
       "      <td>zapped</td>\n",
       "      <td>peterdeluise zendaya,chanellepeloso,spencerbol...</td>\n",
       "    </tr>\n",
       "    <tr>\n",
       "      <th>7762</th>\n",
       "      <td>comedies</td>\n",
       "      <td>chandraprakashdwivedi</td>\n",
       "      <td>adilhussain,monasingh,k.k.raina,sanjaymishra,a...</td>\n",
       "      <td>aphilanderingsmall-townmechanic'spoliticalambi...</td>\n",
       "      <td>zedplus</td>\n",
       "      <td>chandraprakashdwivedi adilhussain,monasingh,k....</td>\n",
       "    </tr>\n",
       "    <tr>\n",
       "      <th>7763</th>\n",
       "      <td>dramas</td>\n",
       "      <td>avadhootgupte</td>\n",
       "      <td>santoshjuvekar,siddharthchandekar,sachitpatil,...</td>\n",
       "      <td>achangeintheleadershipofapoliticalpartysparksb...</td>\n",
       "      <td>zenda</td>\n",
       "      <td>avadhootgupte santoshjuvekar,siddharthchandeka...</td>\n",
       "    </tr>\n",
       "    <tr>\n",
       "      <th>7764</th>\n",
       "      <td>comedies</td>\n",
       "      <td>aanandrai</td>\n",
       "      <td>shahrukhkhan,anushkasharma,katrinakaif,mohamme...</td>\n",
       "      <td>throughhisrelationshipswithtwowildlydifferentw...</td>\n",
       "      <td>zero</td>\n",
       "      <td>aanandrai shahrukhkhan,anushkasharma,katrinaka...</td>\n",
       "    </tr>\n",
       "    <tr>\n",
       "      <th>7765</th>\n",
       "      <td>internationalmovies</td>\n",
       "      <td>roberto.peters</td>\n",
       "      <td>richardmofe-damijo,alexekubo,alinuhu,rahamasad...</td>\n",
       "      <td>afterhisfatherpasses,theheirtoaretailempireret...</td>\n",
       "      <td>zerohour</td>\n",
       "      <td>roberto.peters richardmofe-damijo,alexekubo,al...</td>\n",
       "    </tr>\n",
       "    <tr>\n",
       "      <th>7768</th>\n",
       "      <td>dramas</td>\n",
       "      <td>anjumshahzad</td>\n",
       "      <td>ferozekhan,sajalali,jibraylahmedrajput,alyykha...</td>\n",
       "      <td>twoyoungparentsstruggletokeeptheirmarriageaflo...</td>\n",
       "      <td>zindagikitnihaseenhay</td>\n",
       "      <td>anjumshahzad ferozekhan,sajalali,jibraylahmedr...</td>\n",
       "    </tr>\n",
       "    <tr>\n",
       "      <th>7769</th>\n",
       "      <td>comedies</td>\n",
       "      <td>zoyaakhtar</td>\n",
       "      <td>hrithikroshan,abhaydeol,farhanakhtar,katrinaka...</td>\n",
       "      <td>threefriendsonanadventurousroadtrip/bachelorpa...</td>\n",
       "      <td>zindaginamilegidobara</td>\n",
       "      <td>zoyaakhtar hrithikroshan,abhaydeol,farhanakhta...</td>\n",
       "    </tr>\n",
       "    <tr>\n",
       "      <th>7770</th>\n",
       "      <td>dramas</td>\n",
       "      <td>majidalansari</td>\n",
       "      <td>alisuliman,salehbakri,yasa,alial-jabri,mansoor...</td>\n",
       "      <td>recoveringalcoholictalalwakesupinsideasmall-to...</td>\n",
       "      <td>zinzana</td>\n",
       "      <td>majidalansari alisuliman,salehbakri,yasa,alial...</td>\n",
       "    </tr>\n",
       "    <tr>\n",
       "      <th>7771</th>\n",
       "      <td>documentaries</td>\n",
       "      <td>floydruss</td>\n",
       "      <td>zionclark</td>\n",
       "      <td>bornwithoutlegsandstuckinfostercareforyears,te...</td>\n",
       "      <td>zion</td>\n",
       "      <td>floydruss zionclark documentaries bornwithoutl...</td>\n",
       "    </tr>\n",
       "    <tr>\n",
       "      <th>7772</th>\n",
       "      <td>children&amp;familymovies</td>\n",
       "      <td>oskarsantos</td>\n",
       "      <td>teoplanell,tonigómez,elenaanaya,iriacastellano...</td>\n",
       "      <td>atchristmas,zipandzaptakeatripwiththeirparents...</td>\n",
       "      <td>zipi&amp;zapeylaisladelcapitan</td>\n",
       "      <td>oskarsantos teoplanell,tonigómez,elenaanaya,ir...</td>\n",
       "    </tr>\n",
       "    <tr>\n",
       "      <th>7773</th>\n",
       "      <td>documentaries</td>\n",
       "      <td>rodrigoguardiola,gabrielcruzrivas</td>\n",
       "      <td>sergioacosta,jesúsbáez,ángelmosqueda,rodrigogu...</td>\n",
       "      <td>thisintrospectiverockumentaryfollowsthecareert...</td>\n",
       "      <td>zoé:panoramas</td>\n",
       "      <td>rodrigoguardiola,gabrielcruzrivas sergioacosta...</td>\n",
       "    </tr>\n",
       "    <tr>\n",
       "      <th>7774</th>\n",
       "      <td>cultmovies</td>\n",
       "      <td>davidfincher</td>\n",
       "      <td>markruffalo,jakegyllenhaal,robertdowneyjr.,ant...</td>\n",
       "      <td>apoliticalcartoonist,acrimereporterandapairofc...</td>\n",
       "      <td>zodiac</td>\n",
       "      <td>davidfincher markruffalo,jakegyllenhaal,robert...</td>\n",
       "    </tr>\n",
       "    <tr>\n",
       "      <th>7776</th>\n",
       "      <td>children&amp;familymovies</td>\n",
       "      <td>satyajitbhatkal</td>\n",
       "      <td>darsheelsafary,anupamkher,manjarifadnis,tinnua...</td>\n",
       "      <td>whenhiscrueluncleabandonshim,ayoungorphanlearn...</td>\n",
       "      <td>zokkomon</td>\n",
       "      <td>satyajitbhatkal darsheelsafary,anupamkher,manj...</td>\n",
       "    </tr>\n",
       "    <tr>\n",
       "      <th>7778</th>\n",
       "      <td>comedies</td>\n",
       "      <td>rubenfleischer</td>\n",
       "      <td>jesseeisenberg,woodyharrelson,emmastone,abigai...</td>\n",
       "      <td>lookingtosurviveinaworldtakenoverbyzombies,ado...</td>\n",
       "      <td>zombieland</td>\n",
       "      <td>rubenfleischer jesseeisenberg,woodyharrelson,e...</td>\n",
       "    </tr>\n",
       "    <tr>\n",
       "      <th>7780</th>\n",
       "      <td>dramas</td>\n",
       "      <td>shloksharma</td>\n",
       "      <td>shashankarora,shwetatripathi,rahulkumar,gopalk...</td>\n",
       "      <td>adrugdealerstartshavingdoubtsabouthistradeashi...</td>\n",
       "      <td>zoo</td>\n",
       "      <td>shloksharma shashankarora,shwetatripathi,rahul...</td>\n",
       "    </tr>\n",
       "    <tr>\n",
       "      <th>7781</th>\n",
       "      <td>children&amp;familymovies</td>\n",
       "      <td>peterhewitt</td>\n",
       "      <td>timallen,courteneycox,chevychase,katemara,ryan...</td>\n",
       "      <td>draggedfromcivilianlife,aformersuperheromusttr...</td>\n",
       "      <td>zoom</td>\n",
       "      <td>peterhewitt timallen,courteneycox,chevychase,k...</td>\n",
       "    </tr>\n",
       "    <tr>\n",
       "      <th>7782</th>\n",
       "      <td>dramas</td>\n",
       "      <td>joseffares</td>\n",
       "      <td>imadcreidi,antoinetteturk,eliasgergi,carmenleb...</td>\n",
       "      <td>whenlebanon'scivilwardepriveszozoofhisfamily,h...</td>\n",
       "      <td>zozo</td>\n",
       "      <td>joseffares imadcreidi,antoinetteturk,eliasgerg...</td>\n",
       "    </tr>\n",
       "    <tr>\n",
       "      <th>7783</th>\n",
       "      <td>dramas</td>\n",
       "      <td>mozezsingh</td>\n",
       "      <td>vickykaushal,sarah-janedias,raaghavchanana,man...</td>\n",
       "      <td>ascrappybutpoorboywormshiswayintoatycoon'sdysf...</td>\n",
       "      <td>zubaan</td>\n",
       "      <td>mozezsingh vickykaushal,sarah-janedias,raaghav...</td>\n",
       "    </tr>\n",
       "  </tbody>\n",
       "</table>\n",
       "<p>4979 rows × 6 columns</p>\n",
       "</div>"
      ],
      "text/plain": [
       "                      Genre                           director  \\\n",
       "1                    dramas                    jorgemichelgrau   \n",
       "2              horrormovies                        gilbertchan   \n",
       "3          action&adventure                         shaneacker   \n",
       "4                    dramas                      robertluketic   \n",
       "5      internationaltvshows                         serdarakar   \n",
       "6              horrormovies                      yasiralyasiri   \n",
       "7                    dramas                      kevinreynolds   \n",
       "8              horrormovies                       shravankumar   \n",
       "9              horrormovies                        vikrambhatt   \n",
       "10                   dramas                        zakhilditch   \n",
       "13            documentaries                 nottaponboonprakob   \n",
       "14        independentmovies                          johnsuits   \n",
       "15                   dramas                      kunleafolayan   \n",
       "17                   dramas                     paulgreengrass   \n",
       "18                 comedies                  swapnaneeljayakar   \n",
       "20                   dramas                               onir   \n",
       "21         action&adventure                        vijaymilton   \n",
       "22                   dramas                   santwanabardoloi   \n",
       "23                   dramas                         atanughosh   \n",
       "27             horrormovies                              choil   \n",
       "28            documentaries           sabinafedeli,annamigotto   \n",
       "31                   dramas                       rakoprijanto   \n",
       "32                   dramas                       rakoprijanto   \n",
       "33                 comedies                    fernandolebrija   \n",
       "34                 comedies                     michaelkennedy   \n",
       "36                 comedies                      cristinajacob   \n",
       "37                 comedies                      cristinajacob   \n",
       "39                 comedies                         frankariza   \n",
       "40                 comedies                     muharremgülmez   \n",
       "41             horrormovies                  óskarthóraxelsson   \n",
       "...                     ...                                ...   \n",
       "7739               comedies                      funkeakindele   \n",
       "7741                 dramas                       liukuang-hui   \n",
       "7742                 dramas                   miguelángelvivas   \n",
       "7744         stand-upcomedy                        nevilleshah   \n",
       "7745  children&familymovies                        rajagosnell   \n",
       "7747                 dramas                        mohameddiab   \n",
       "7748               comedies                    ahmednadergalal   \n",
       "7751               comedies                       danielmonzón   \n",
       "7754                 dramas                         maniratnam   \n",
       "7757         stand-upcomedy                     michaelblieden   \n",
       "7758               comedies                         kevinsmith   \n",
       "7760               comedies                          waelihsan   \n",
       "7761  children&familymovies                       peterdeluise   \n",
       "7762               comedies              chandraprakashdwivedi   \n",
       "7763                 dramas                      avadhootgupte   \n",
       "7764               comedies                          aanandrai   \n",
       "7765    internationalmovies                     roberto.peters   \n",
       "7768                 dramas                       anjumshahzad   \n",
       "7769               comedies                         zoyaakhtar   \n",
       "7770                 dramas                      majidalansari   \n",
       "7771          documentaries                          floydruss   \n",
       "7772  children&familymovies                        oskarsantos   \n",
       "7773          documentaries  rodrigoguardiola,gabrielcruzrivas   \n",
       "7774             cultmovies                       davidfincher   \n",
       "7776  children&familymovies                    satyajitbhatkal   \n",
       "7778               comedies                     rubenfleischer   \n",
       "7780                 dramas                        shloksharma   \n",
       "7781  children&familymovies                        peterhewitt   \n",
       "7782                 dramas                         joseffares   \n",
       "7783                 dramas                         mozezsingh   \n",
       "\n",
       "                                                   cast  \\\n",
       "1     demiánbichir,héctorbonilla,oscarserrano,azalia...   \n",
       "2     teddchan,stellachung,henleyhii,lawrencekoh,tom...   \n",
       "3     elijahwood,johnc.reilly,jenniferconnelly,chris...   \n",
       "4     jimsturgess,kevinspacey,katebosworth,aaronyoo,...   \n",
       "5     erdalbeşikçioğlu,yaseminallen,melisbirkan,sayg...   \n",
       "6     aminakhalil,ahmeddawood,tareklotfy,ahmedelfish...   \n",
       "7     samuell.jackson,johnheard,kellyrowan,cliftonco...   \n",
       "8     divyadutta,atulkulkarni,mohanagashe,anupamshya...   \n",
       "9     rajneeshduggal,adahsharma,indraneilsengupta,an...   \n",
       "10    thomasjane,mollyparker,dylanschmid,kaitlynbern...   \n",
       "13                                    artiwarakongmalai   \n",
       "14    omarepps,katewalsh,mirandacosgrove,angusmacfad...   \n",
       "15    sadiqdaba,davidbailie,kayodeolaiya,kehindebank...   \n",
       "17    andersdanielsenlie,jonøigarden,jonasstrandgrav...   \n",
       "18    rahulpethe,mrunmayeedeshpande,adinathkothare,v...   \n",
       "20    geetanjalithapa,zainkhandurrani,shrayraitiwari...   \n",
       "21    samuthirakani,bharathseeni,vinoth,esakkibarath...   \n",
       "22    adilhussain,shakilimtiaz,mahendrarabha,sulaksh...   \n",
       "23    soumitrachatterjee,prasenjitchatterjee,indrani...   \n",
       "27                                yooah-in,parkshin-hye   \n",
       "28                             helenmirren,genghergatti   \n",
       "31    adipatidolken,vaneshaprescilla,rendijhon,bebyt...   \n",
       "32    adipatidolken,mawardejongh,sarinila,vonnycorne...   \n",
       "33    nestacooper,katewalsh,johnmichaelhiggins,keith...   \n",
       "34    jakeshort,sarahfisher,booboostewart,dannytrejo...   \n",
       "36    flaviahojda,crinasemciuc,olimpiamelinte,levent...   \n",
       "37    maiamorgenstern,olimpiamelinte,crinasemciuc,fl...   \n",
       "39    estefaníadelossantos,secundelarosa,terelepávez...   \n",
       "40    erdemyener,ayhantaş,eminolcay,muharremgülmez,e...   \n",
       "41    jóhanneshaukurjóhannesson,ágústaevaerlendsdótt...   \n",
       "...                                                 ...   \n",
       "7739  akinlewis,funkeakindele,kemilalaakindoju,shaff...   \n",
       "7741  edwardchen,tsengching-hua,leondai,jasonwang,fa...   \n",
       "7742  josécoronado,anawagener,asiaortega,polmonen,es...   \n",
       "7744                                          kanangill   \n",
       "7745  dennisquaid,renerusso,seanfaris,katijapevec,de...   \n",
       "7747  nellykarim,hanyadel,tarekabdelaziz,ahmedmalek,...   \n",
       "7748  ahmedhelmy,lailaezzelarab,mahmoudelfishawy,moh...   \n",
       "7751  luistosar,rodrigodelaserna,joanpera,stephaniec...   \n",
       "7754  ajaydevgn,abhishekbachchan,vivekoberoi,eshadeo...   \n",
       "7757                        zachgalifianakis,brianunger   \n",
       "7758  sethrogen,elizabethbanks,craigrobinson,jasonme...   \n",
       "7760   ahmedhelmy,yasminabdulaziz,hassanhosny,hasankami   \n",
       "7761  zendaya,chanellepeloso,spencerboldman,emiliamc...   \n",
       "7762  adilhussain,monasingh,k.k.raina,sanjaymishra,a...   \n",
       "7763  santoshjuvekar,siddharthchandekar,sachitpatil,...   \n",
       "7764  shahrukhkhan,anushkasharma,katrinakaif,mohamme...   \n",
       "7765  richardmofe-damijo,alexekubo,alinuhu,rahamasad...   \n",
       "7768  ferozekhan,sajalali,jibraylahmedrajput,alyykha...   \n",
       "7769  hrithikroshan,abhaydeol,farhanakhtar,katrinaka...   \n",
       "7770  alisuliman,salehbakri,yasa,alial-jabri,mansoor...   \n",
       "7771                                          zionclark   \n",
       "7772  teoplanell,tonigómez,elenaanaya,iriacastellano...   \n",
       "7773  sergioacosta,jesúsbáez,ángelmosqueda,rodrigogu...   \n",
       "7774  markruffalo,jakegyllenhaal,robertdowneyjr.,ant...   \n",
       "7776  darsheelsafary,anupamkher,manjarifadnis,tinnua...   \n",
       "7778  jesseeisenberg,woodyharrelson,emmastone,abigai...   \n",
       "7780  shashankarora,shwetatripathi,rahulkumar,gopalk...   \n",
       "7781  timallen,courteneycox,chevychase,katemara,ryan...   \n",
       "7782  imadcreidi,antoinetteturk,eliasgergi,carmenleb...   \n",
       "7783  vickykaushal,sarah-janedias,raaghavchanana,man...   \n",
       "\n",
       "                                            description  \\\n",
       "1     afteradevastatingearthquakehitsmexicocity,trap...   \n",
       "2     whenanarmyrecruitisfounddead,hisfellowsoldiers...   \n",
       "3     inapostapocalypticworld,rag-dollrobotshideinfe...   \n",
       "4     abrilliantgroupofstudentsbecomecard-countingex...   \n",
       "5     ageneticsprofessorexperimentswithatreatmentfor...   \n",
       "6     afteranawfulaccident,acoupleadmittedtoagrislyh...   \n",
       "7     afteroneofhishighschoolstudentsattackshim,dedi...   \n",
       "8     whenadoctorgoesmissing,hispsychiatristwifetrea...   \n",
       "9     anarchitectandhiswifemoveintoacastlethatisslat...   \n",
       "10    afarmerpensaconfessionadmittingtohiswife'smurd...   \n",
       "13    thisintimatedocumentaryfollowsrockstarartiwara...   \n",
       "14    strandedwhentheearthissuddenlydestroyedinamyst...   \n",
       "15    againstthebackdropofnigeria'sloomingindependen...   \n",
       "17    afterdevastatingterrorattacksinnorway,ayoungsu...   \n",
       "18    onindia'sindependenceday,azanymishapinamumbaic...   \n",
       "20    afteraccidentallyconnectingovertheinternet,two...   \n",
       "21    ataxidriver,agangsterandanathletestruggletobet...   \n",
       "22    asuccessfulwriterreturnstothetownthatlaunchedh...   \n",
       "23    whenamiddle-ageddivorceereturnstokolkatatovisi...   \n",
       "27    asagrislyvirusrampagesacity,alonemanstayslocke...   \n",
       "28    throughherdiary,annefrank'sstoryisretoldalongs...   \n",
       "31    piningforhishighschoolcrushforyears,ayoungmanp...   \n",
       "32    asayuanddittofinallytransitionfrombestfriendst...   \n",
       "33    whennerdyhighschoolerdanifinallyattractstheint...   \n",
       "34    ateenagehackerwithahugenosehelpsacoolkidwooagi...   \n",
       "36    twodaysbeforetheirfinalexams,threeteengirlsmak...   \n",
       "37    afterapainfulbreakup,atrioofparty-lovingfriend...   \n",
       "39    whenherestrangedmothersuddenlydies,awomanmustf...   \n",
       "40    theslackerownerofapublicbathhouserallieshiscom...   \n",
       "41    youngurbanitesrenovatingarundownhouse,andapsyc...   \n",
       "...                                                 ...   \n",
       "7739  bumblingthroughpolitics,abillionairebusinessma...   \n",
       "7741  in1987,asmartiallawendsintaiwan,jia-hanandbird...   \n",
       "7742  afterhissonisbrutallybeatenoutsideanightclub,a...   \n",
       "7744  revisitinglifegoalssetinaletterwrittenasateent...   \n",
       "7745  whenafatherofeightandamotherof10preparetowed,t...   \n",
       "7747  amidthetumultfollowingegyptianpresidentmorsi's...   \n",
       "7748  onhisweddingday,anarrogant,greedyaccountantexp...   \n",
       "7751  competingconartistsattempttocreativelyandruthl...   \n",
       "7754  anaccidentonabridgetiestogetherthreeyoungmenfr...   \n",
       "7757  theunorthodox,piano-playingstand-upstarzachgal...   \n",
       "7758  zackandmirimakeandstarinanadultfilmtobringinea...   \n",
       "7760  anunqualifiedyoungmanhashisworkcutoutforhimwhe...   \n",
       "7761  agirldiscoversadog-trainingappthatcangetboysto...   \n",
       "7762  aphilanderingsmall-townmechanic'spoliticalambi...   \n",
       "7763  achangeintheleadershipofapoliticalpartysparksb...   \n",
       "7764  throughhisrelationshipswithtwowildlydifferentw...   \n",
       "7765  afterhisfatherpasses,theheirtoaretailempireret...   \n",
       "7768  twoyoungparentsstruggletokeeptheirmarriageaflo...   \n",
       "7769  threefriendsonanadventurousroadtrip/bachelorpa...   \n",
       "7770  recoveringalcoholictalalwakesupinsideasmall-to...   \n",
       "7771  bornwithoutlegsandstuckinfostercareforyears,te...   \n",
       "7772  atchristmas,zipandzaptakeatripwiththeirparents...   \n",
       "7773  thisintrospectiverockumentaryfollowsthecareert...   \n",
       "7774  apoliticalcartoonist,acrimereporterandapairofc...   \n",
       "7776  whenhiscrueluncleabandonshim,ayoungorphanlearn...   \n",
       "7778  lookingtosurviveinaworldtakenoverbyzombies,ado...   \n",
       "7780  adrugdealerstartshavingdoubtsabouthistradeashi...   \n",
       "7781  draggedfromcivilianlife,aformersuperheromusttr...   \n",
       "7782  whenlebanon'scivilwardepriveszozoofhisfamily,h...   \n",
       "7783  ascrappybutpoorboywormshiswayintoatycoon'sdysf...   \n",
       "\n",
       "                                      title  \\\n",
       "1                                      7:19   \n",
       "2                                     23:59   \n",
       "3                                         9   \n",
       "4                                        21   \n",
       "5                                        46   \n",
       "6                                       122   \n",
       "7                                       187   \n",
       "8                                       706   \n",
       "9                                      1920   \n",
       "10                                     1922   \n",
       "13                                    2,215   \n",
       "14                                     3022   \n",
       "15                                   oct-01   \n",
       "17                                   22-jul   \n",
       "18                                   15-aug   \n",
       "20                       ​​kuchbheegealfaaz   \n",
       "21                               ​golisoda2   \n",
       "22                         ​majrati​​keteki   \n",
       "23                              ​mayurakshi   \n",
       "27                                   #alive   \n",
       "28               #annefrank-parallelstories   \n",
       "31                        #friendbutmarried   \n",
       "32                       #friendbutmarried2   \n",
       "33                             #realityhigh   \n",
       "34                                    #roxy   \n",
       "36                                  #selfie   \n",
       "37                                #selfie69   \n",
       "39                             ¡ay,mimadre!   \n",
       "40                               çarsipazar   \n",
       "41                                 égmanþig   \n",
       "...                                     ...   \n",
       "7739                         yourexcellency   \n",
       "7741                 yournameengravedherein   \n",
       "7742                                yourson   \n",
       "7744               yourssincerely,kanangill   \n",
       "7745                      yours,mineandours   \n",
       "7747                                 اشتباك   \n",
       "7748                               الفمبروك   \n",
       "7751                                yucatán   \n",
       "7754                                   yuva   \n",
       "7757  zachgalifianakis:liveatthepurpleonion   \n",
       "7758                  zackandmirimakeaporno   \n",
       "7760                               zakichan   \n",
       "7761                                 zapped   \n",
       "7762                                zedplus   \n",
       "7763                                  zenda   \n",
       "7764                                   zero   \n",
       "7765                               zerohour   \n",
       "7768                  zindagikitnihaseenhay   \n",
       "7769                  zindaginamilegidobara   \n",
       "7770                                zinzana   \n",
       "7771                                   zion   \n",
       "7772             zipi&zapeylaisladelcapitan   \n",
       "7773                          zoé:panoramas   \n",
       "7774                                 zodiac   \n",
       "7776                               zokkomon   \n",
       "7778                             zombieland   \n",
       "7780                                    zoo   \n",
       "7781                                   zoom   \n",
       "7782                                   zozo   \n",
       "7783                                 zubaan   \n",
       "\n",
       "                                                   soup  \n",
       "1     jorgemichelgrau demiánbichir,héctorbonilla,osc...  \n",
       "2     gilbertchan teddchan,stellachung,henleyhii,law...  \n",
       "3     shaneacker elijahwood,johnc.reilly,jennifercon...  \n",
       "4     robertluketic jimsturgess,kevinspacey,katebosw...  \n",
       "5     serdarakar erdalbeşikçioğlu,yaseminallen,melis...  \n",
       "6     yasiralyasiri aminakhalil,ahmeddawood,tareklot...  \n",
       "7     kevinreynolds samuell.jackson,johnheard,kellyr...  \n",
       "8     shravankumar divyadutta,atulkulkarni,mohanagas...  \n",
       "9     vikrambhatt rajneeshduggal,adahsharma,indranei...  \n",
       "10    zakhilditch thomasjane,mollyparker,dylanschmid...  \n",
       "13    nottaponboonprakob artiwarakongmalai documenta...  \n",
       "14    johnsuits omarepps,katewalsh,mirandacosgrove,a...  \n",
       "15    kunleafolayan sadiqdaba,davidbailie,kayodeolai...  \n",
       "17    paulgreengrass andersdanielsenlie,jonøigarden,...  \n",
       "18    swapnaneeljayakar rahulpethe,mrunmayeedeshpand...  \n",
       "20    onir geetanjalithapa,zainkhandurrani,shrayrait...  \n",
       "21    vijaymilton samuthirakani,bharathseeni,vinoth,...  \n",
       "22    santwanabardoloi adilhussain,shakilimtiaz,mahe...  \n",
       "23    atanughosh soumitrachatterjee,prasenjitchatter...  \n",
       "27    choil yooah-in,parkshin-hye horrormovies asagr...  \n",
       "28    sabinafedeli,annamigotto helenmirren,gengherga...  \n",
       "31    rakoprijanto adipatidolken,vaneshaprescilla,re...  \n",
       "32    rakoprijanto adipatidolken,mawardejongh,sarini...  \n",
       "33    fernandolebrija nestacooper,katewalsh,johnmich...  \n",
       "34    michaelkennedy jakeshort,sarahfisher,boobooste...  \n",
       "36    cristinajacob flaviahojda,crinasemciuc,olimpia...  \n",
       "37    cristinajacob maiamorgenstern,olimpiamelinte,c...  \n",
       "39    frankariza estefaníadelossantos,secundelarosa,...  \n",
       "40    muharremgülmez erdemyener,ayhantaş,eminolcay,m...  \n",
       "41    óskarthóraxelsson jóhanneshaukurjóhannesson,ág...  \n",
       "...                                                 ...  \n",
       "7739  funkeakindele akinlewis,funkeakindele,kemilala...  \n",
       "7741  liukuang-hui edwardchen,tsengching-hua,leondai...  \n",
       "7742  miguelángelvivas josécoronado,anawagener,asiao...  \n",
       "7744  nevilleshah kanangill stand-upcomedy revisitin...  \n",
       "7745  rajagosnell dennisquaid,renerusso,seanfaris,ka...  \n",
       "7747  mohameddiab nellykarim,hanyadel,tarekabdelaziz...  \n",
       "7748  ahmednadergalal ahmedhelmy,lailaezzelarab,mahm...  \n",
       "7751  danielmonzón luistosar,rodrigodelaserna,joanpe...  \n",
       "7754  maniratnam ajaydevgn,abhishekbachchan,vivekobe...  \n",
       "7757  michaelblieden zachgalifianakis,brianunger sta...  \n",
       "7758  kevinsmith sethrogen,elizabethbanks,craigrobin...  \n",
       "7760  waelihsan ahmedhelmy,yasminabdulaziz,hassanhos...  \n",
       "7761  peterdeluise zendaya,chanellepeloso,spencerbol...  \n",
       "7762  chandraprakashdwivedi adilhussain,monasingh,k....  \n",
       "7763  avadhootgupte santoshjuvekar,siddharthchandeka...  \n",
       "7764  aanandrai shahrukhkhan,anushkasharma,katrinaka...  \n",
       "7765  roberto.peters richardmofe-damijo,alexekubo,al...  \n",
       "7768  anjumshahzad ferozekhan,sajalali,jibraylahmedr...  \n",
       "7769  zoyaakhtar hrithikroshan,abhaydeol,farhanakhta...  \n",
       "7770  majidalansari alisuliman,salehbakri,yasa,alial...  \n",
       "7771  floydruss zionclark documentaries bornwithoutl...  \n",
       "7772  oskarsantos teoplanell,tonigómez,elenaanaya,ir...  \n",
       "7773  rodrigoguardiola,gabrielcruzrivas sergioacosta...  \n",
       "7774  davidfincher markruffalo,jakegyllenhaal,robert...  \n",
       "7776  satyajitbhatkal darsheelsafary,anupamkher,manj...  \n",
       "7778  rubenfleischer jesseeisenberg,woodyharrelson,e...  \n",
       "7780  shloksharma shashankarora,shwetatripathi,rahul...  \n",
       "7781  peterhewitt timallen,courteneycox,chevychase,k...  \n",
       "7782  joseffares imadcreidi,antoinetteturk,eliasgerg...  \n",
       "7783  mozezsingh vickykaushal,sarah-janedias,raaghav...  \n",
       "\n",
       "[4979 rows x 6 columns]"
      ]
     },
     "execution_count": 59,
     "metadata": {},
     "output_type": "execute_result"
    }
   ],
   "source": [
    "filters"
   ]
  },
  {
   "cell_type": "code",
   "execution_count": 60,
   "metadata": {
    "execution": {
     "iopub.execute_input": "2021-07-12T18:56:00.688741Z",
     "iopub.status.busy": "2021-07-12T18:56:00.688310Z",
     "iopub.status.idle": "2021-07-12T18:56:00.706126Z",
     "shell.execute_reply": "2021-07-12T18:56:00.704832Z",
     "shell.execute_reply.started": "2021-07-12T18:56:00.688685Z"
    }
   },
   "outputs": [],
   "source": [
    "# Reset index of our main DataFrame and construct reverse mapping as before\n",
    "filters=filters.reset_index()\n",
    "indices = pd.Series(filters.index, index=filters['title'])"
   ]
  },
  {
   "cell_type": "code",
   "execution_count": 61,
   "metadata": {
    "execution": {
     "iopub.execute_input": "2021-07-12T18:56:00.708468Z",
     "iopub.status.busy": "2021-07-12T18:56:00.708042Z",
     "iopub.status.idle": "2021-07-12T18:56:00.717137Z",
     "shell.execute_reply": "2021-07-12T18:56:00.716175Z",
     "shell.execute_reply.started": "2021-07-12T18:56:00.708422Z"
    }
   },
   "outputs": [],
   "source": [
    "def get_recommendations_new(title, cosine_sim=cosine_sim):\n",
    "    title=title.replace(' ','').lower()\n",
    "    idx = indices[title]\n",
    "\n",
    "    # Get the pairwsie similarity scores of all movies with that movie\n",
    "    sim_scores = list(enumerate(cosine_sim[idx]))\n",
    "\n",
    "    # Sort the movies based on the similarity scores\n",
    "    sim_scores = sorted(sim_scores, key=lambda x: x[1], reverse=True)\n",
    "\n",
    "    # Get the scores of the 10 most similar movies\n",
    "    sim_scores = sim_scores[1:11]\n",
    "\n",
    "    # Get the movie indices\n",
    "    movie_indices = [i[0] for i in sim_scores]\n",
    "\n",
    "    # Return the top 10 most similar movies\n",
    "    return df['title'].iloc[movie_indices]"
   ]
  },
  {
   "cell_type": "code",
   "execution_count": 62,
   "metadata": {
    "execution": {
     "iopub.execute_input": "2021-07-12T18:56:00.720019Z",
     "iopub.status.busy": "2021-07-12T18:56:00.719526Z",
     "iopub.status.idle": "2021-07-12T18:56:00.743154Z",
     "shell.execute_reply": "2021-07-12T18:56:00.741954Z",
     "shell.execute_reply.started": "2021-07-12T18:56:00.719976Z"
    }
   },
   "outputs": [
    {
     "data": {
      "text/plain": [
       "100                         3 Idiots\n",
       "6585    The Legend of Michael Mishra\n",
       "552                Anthony Kaun Hai?\n",
       "4278                  Mumbai Matinee\n",
       "1004                    BluffMaster!\n",
       "2149              Ferrari Ki Sawaari\n",
       "1271                 Chance Pe Dance\n",
       "1831                         Dostana\n",
       "1878                           Drive\n",
       "1940              Ek Main Aur Ekk Tu\n",
       "Name: title, dtype: object"
      ]
     },
     "execution_count": 62,
     "metadata": {},
     "output_type": "execute_result"
    }
   ],
   "source": [
    "get_recommendations_new('PK', cosine_sim2)"
   ]
  },
  {
   "cell_type": "code",
   "execution_count": 63,
   "metadata": {
    "execution": {
     "iopub.execute_input": "2021-07-12T18:56:00.745035Z",
     "iopub.status.busy": "2021-07-12T18:56:00.744440Z",
     "iopub.status.idle": "2021-07-12T18:56:00.760311Z",
     "shell.execute_reply": "2021-07-12T18:56:00.759105Z",
     "shell.execute_reply.started": "2021-07-12T18:56:00.744989Z"
    }
   },
   "outputs": [
    {
     "data": {
      "text/plain": [
       "4247    Mowgli: Legend of the Jungle\n",
       "1236                 Casino Tycoon 2\n",
       "2837                     How It Ends\n",
       "5750            Spenser Confidential\n",
       "7392                   Vantage Point\n",
       "718                     Bang Rajan 2\n",
       "4607              Olympus Has Fallen\n",
       "1569                     Da 5 Bloods\n",
       "3006                        Inkheart\n",
       "4667              Operation Chromite\n",
       "Name: title, dtype: object"
      ]
     },
     "execution_count": 63,
     "metadata": {},
     "output_type": "execute_result"
    }
   ],
   "source": [
    "get_recommendations_new('Black panther', cosine_sim2)"
   ]
  },
  {
   "cell_type": "code",
   "execution_count": 64,
   "metadata": {
    "execution": {
     "iopub.execute_input": "2021-07-12T18:56:00.762372Z",
     "iopub.status.busy": "2021-07-12T18:56:00.761922Z",
     "iopub.status.idle": "2021-07-12T18:56:00.781267Z",
     "shell.execute_reply": "2021-07-12T18:56:00.780212Z",
     "shell.execute_reply.started": "2021-07-12T18:56:00.762324Z"
    }
   },
   "outputs": [
    {
     "data": {
      "text/plain": [
       "4405                    Naruto Shippûden the Movie: Bonds\n",
       "4410     Naruto the Movie 2: Legend of the Stone of Gelel\n",
       "4407                      Naruto Shippuden : Blood Prison\n",
       "4406         Naruto Shippûden the Movie: The Will of Fire\n",
       "4408                          Naruto Shippuden: The Movie\n",
       "4411    Naruto the Movie 3: Guardians of the Crescent ...\n",
       "4409          Naruto Shippuden: The Movie: The Lost Tower\n",
       "2313                     Fullmetal Alchemist: Brotherhood\n",
       "6477                                 The Idhun Chronicles\n",
       "2431                                     Girls und Panzer\n",
       "Name: title, dtype: object"
      ]
     },
     "execution_count": 64,
     "metadata": {},
     "output_type": "execute_result"
    }
   ],
   "source": [
    "get_recommendations_new('Naruto', cosine_sim2)"
   ]
  },
  {
   "cell_type": "code",
   "execution_count": null,
   "metadata": {},
   "outputs": [],
   "source": []
  }
 ],
 "metadata": {
  "kernelspec": {
   "display_name": "Python 3",
   "language": "python",
   "name": "python3"
  },
  "language_info": {
   "codemirror_mode": {
    "name": "ipython",
    "version": 3
   },
   "file_extension": ".py",
   "mimetype": "text/x-python",
   "name": "python",
   "nbconvert_exporter": "python",
   "pygments_lexer": "ipython3",
   "version": "3.7.3"
  }
 },
 "nbformat": 4,
 "nbformat_minor": 4
}
